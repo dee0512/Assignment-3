{
 "cells": [
  {
   "cell_type": "markdown",
   "metadata": {},
   "source": [
    "# Assignment 3\n",
    "This is an assignment for COMPSCI 690V Visual analytics. The dataset used in this assignment is from UCI machine learning repository (http://archive.ics.uci.edu/ml/datasets/Wholesale+customers). In this assignment, I will go through various methods of clustering the data."
   ]
  },
  {
   "cell_type": "code",
   "execution_count": 89,
   "metadata": {},
   "outputs": [
    {
     "data": {
      "text/html": [
       "\n",
       "    <div class=\"bk-root\">\n",
       "        <a href=\"https://bokeh.pydata.org\" target=\"_blank\" class=\"bk-logo bk-logo-small bk-logo-notebook\"></a>\n",
       "        <span id=\"1a6171ea-62fe-4461-922d-204efb82bf28\">Loading BokehJS ...</span>\n",
       "    </div>"
      ]
     },
     "metadata": {},
     "output_type": "display_data"
    },
    {
     "data": {
      "application/javascript": [
       "\n",
       "(function(root) {\n",
       "  function now() {\n",
       "    return new Date();\n",
       "  }\n",
       "\n",
       "  var force = true;\n",
       "\n",
       "  if (typeof (root._bokeh_onload_callbacks) === \"undefined\" || force === true) {\n",
       "    root._bokeh_onload_callbacks = [];\n",
       "    root._bokeh_is_loading = undefined;\n",
       "  }\n",
       "\n",
       "\n",
       "  \n",
       "  if (typeof (root._bokeh_timeout) === \"undefined\" || force === true) {\n",
       "    root._bokeh_timeout = Date.now() + 5000;\n",
       "    root._bokeh_failed_load = false;\n",
       "  }\n",
       "\n",
       "  var NB_LOAD_WARNING = {'data': {'text/html':\n",
       "     \"<div style='background-color: #fdd'>\\n\"+\n",
       "     \"<p>\\n\"+\n",
       "     \"BokehJS does not appear to have successfully loaded. If loading BokehJS from CDN, this \\n\"+\n",
       "     \"may be due to a slow or bad network connection. Possible fixes:\\n\"+\n",
       "     \"</p>\\n\"+\n",
       "     \"<ul>\\n\"+\n",
       "     \"<li>re-rerun `output_notebook()` to attempt to load from CDN again, or</li>\\n\"+\n",
       "     \"<li>use INLINE resources instead, as so:</li>\\n\"+\n",
       "     \"</ul>\\n\"+\n",
       "     \"<code>\\n\"+\n",
       "     \"from bokeh.resources import INLINE\\n\"+\n",
       "     \"output_notebook(resources=INLINE)\\n\"+\n",
       "     \"</code>\\n\"+\n",
       "     \"</div>\"}};\n",
       "\n",
       "  function display_loaded() {\n",
       "    if (root.Bokeh !== undefined) {\n",
       "      var el = document.getElementById(\"1a6171ea-62fe-4461-922d-204efb82bf28\");\n",
       "      if (el != null) {\n",
       "        el.textContent = \"BokehJS \" + Bokeh.version + \" successfully loaded.\";\n",
       "      }\n",
       "    } else if (Date.now() < root._bokeh_timeout) {\n",
       "      setTimeout(display_loaded, 100)\n",
       "    }\n",
       "  }\n",
       "\n",
       "\n",
       "  function run_callbacks() {\n",
       "    try {\n",
       "      root._bokeh_onload_callbacks.forEach(function(callback) { callback() });\n",
       "    }\n",
       "    finally {\n",
       "      delete root._bokeh_onload_callbacks\n",
       "    }\n",
       "    console.info(\"Bokeh: all callbacks have finished\");\n",
       "  }\n",
       "\n",
       "  function load_libs(js_urls, callback) {\n",
       "    root._bokeh_onload_callbacks.push(callback);\n",
       "    if (root._bokeh_is_loading > 0) {\n",
       "      console.log(\"Bokeh: BokehJS is being loaded, scheduling callback at\", now());\n",
       "      return null;\n",
       "    }\n",
       "    if (js_urls == null || js_urls.length === 0) {\n",
       "      run_callbacks();\n",
       "      return null;\n",
       "    }\n",
       "    console.log(\"Bokeh: BokehJS not loaded, scheduling load and callback at\", now());\n",
       "    root._bokeh_is_loading = js_urls.length;\n",
       "    for (var i = 0; i < js_urls.length; i++) {\n",
       "      var url = js_urls[i];\n",
       "      var s = document.createElement('script');\n",
       "      s.src = url;\n",
       "      s.async = false;\n",
       "      s.onreadystatechange = s.onload = function() {\n",
       "        root._bokeh_is_loading--;\n",
       "        if (root._bokeh_is_loading === 0) {\n",
       "          console.log(\"Bokeh: all BokehJS libraries loaded\");\n",
       "          run_callbacks()\n",
       "        }\n",
       "      };\n",
       "      s.onerror = function() {\n",
       "        console.warn(\"failed to load library \" + url);\n",
       "      };\n",
       "      console.log(\"Bokeh: injecting script tag for BokehJS library: \", url);\n",
       "      document.getElementsByTagName(\"head\")[0].appendChild(s);\n",
       "    }\n",
       "  };var element = document.getElementById(\"1a6171ea-62fe-4461-922d-204efb82bf28\");\n",
       "  if (element == null) {\n",
       "    console.log(\"Bokeh: ERROR: autoload.js configured with elementid '1a6171ea-62fe-4461-922d-204efb82bf28' but no matching script tag was found. \")\n",
       "    return false;\n",
       "  }\n",
       "\n",
       "  var js_urls = [\"https://cdn.pydata.org/bokeh/release/bokeh-0.12.7.min.js\", \"https://cdn.pydata.org/bokeh/release/bokeh-widgets-0.12.7.min.js\", \"https://cdn.pydata.org/bokeh/release/bokeh-tables-0.12.7.min.js\", \"https://cdn.pydata.org/bokeh/release/bokeh-gl-0.12.7.min.js\"];\n",
       "\n",
       "  var inline_js = [\n",
       "    function(Bokeh) {\n",
       "      Bokeh.set_log_level(\"info\");\n",
       "    },\n",
       "    \n",
       "    function(Bokeh) {\n",
       "      \n",
       "    },\n",
       "    \n",
       "    function(Bokeh) {\n",
       "      \n",
       "      document.getElementById(\"1a6171ea-62fe-4461-922d-204efb82bf28\").textContent = \"BokehJS is loading...\";\n",
       "    },\n",
       "    function(Bokeh) {\n",
       "      console.log(\"Bokeh: injecting CSS: https://cdn.pydata.org/bokeh/release/bokeh-0.12.7.min.css\");\n",
       "      Bokeh.embed.inject_css(\"https://cdn.pydata.org/bokeh/release/bokeh-0.12.7.min.css\");\n",
       "      console.log(\"Bokeh: injecting CSS: https://cdn.pydata.org/bokeh/release/bokeh-widgets-0.12.7.min.css\");\n",
       "      Bokeh.embed.inject_css(\"https://cdn.pydata.org/bokeh/release/bokeh-widgets-0.12.7.min.css\");\n",
       "      console.log(\"Bokeh: injecting CSS: https://cdn.pydata.org/bokeh/release/bokeh-tables-0.12.7.min.css\");\n",
       "      Bokeh.embed.inject_css(\"https://cdn.pydata.org/bokeh/release/bokeh-tables-0.12.7.min.css\");\n",
       "    }\n",
       "  ];\n",
       "\n",
       "  function run_inline_js() {\n",
       "    \n",
       "    if ((root.Bokeh !== undefined) || (force === true)) {\n",
       "      for (var i = 0; i < inline_js.length; i++) {\n",
       "        inline_js[i].call(root, root.Bokeh);\n",
       "      }if (force === true) {\n",
       "        display_loaded();\n",
       "      }} else if (Date.now() < root._bokeh_timeout) {\n",
       "      setTimeout(run_inline_js, 100);\n",
       "    } else if (!root._bokeh_failed_load) {\n",
       "      console.log(\"Bokeh: BokehJS failed to load within specified timeout.\");\n",
       "      root._bokeh_failed_load = true;\n",
       "    } else if (force !== true) {\n",
       "      var cell = $(document.getElementById(\"1a6171ea-62fe-4461-922d-204efb82bf28\")).parents('.cell').data().cell;\n",
       "      cell.output_area.append_execute_result(NB_LOAD_WARNING)\n",
       "    }\n",
       "\n",
       "  }\n",
       "\n",
       "  if (root._bokeh_is_loading === 0) {\n",
       "    console.log(\"Bokeh: BokehJS loaded, going straight to plotting\");\n",
       "    run_inline_js();\n",
       "  } else {\n",
       "    load_libs(js_urls, function() {\n",
       "      console.log(\"Bokeh: BokehJS plotting callback run at\", now());\n",
       "      run_inline_js();\n",
       "    });\n",
       "  }\n",
       "}(window));"
      ]
     },
     "metadata": {},
     "output_type": "display_data"
    },
    {
     "data": {
      "text/html": [
       "<div>\n",
       "<style>\n",
       "    .dataframe thead tr:only-child th {\n",
       "        text-align: right;\n",
       "    }\n",
       "\n",
       "    .dataframe thead th {\n",
       "        text-align: left;\n",
       "    }\n",
       "\n",
       "    .dataframe tbody tr th {\n",
       "        vertical-align: top;\n",
       "    }\n",
       "</style>\n",
       "<table border=\"1\" class=\"dataframe\">\n",
       "  <thead>\n",
       "    <tr style=\"text-align: right;\">\n",
       "      <th></th>\n",
       "      <th>Channel</th>\n",
       "      <th>Region</th>\n",
       "      <th>Fresh</th>\n",
       "      <th>Milk</th>\n",
       "      <th>Grocery</th>\n",
       "      <th>Frozen</th>\n",
       "      <th>Detergents_Paper</th>\n",
       "      <th>Delicassen</th>\n",
       "    </tr>\n",
       "  </thead>\n",
       "  <tbody>\n",
       "    <tr>\n",
       "      <th>0</th>\n",
       "      <td>2</td>\n",
       "      <td>3</td>\n",
       "      <td>12669</td>\n",
       "      <td>9656</td>\n",
       "      <td>7561</td>\n",
       "      <td>214</td>\n",
       "      <td>2674</td>\n",
       "      <td>1338</td>\n",
       "    </tr>\n",
       "    <tr>\n",
       "      <th>1</th>\n",
       "      <td>2</td>\n",
       "      <td>3</td>\n",
       "      <td>7057</td>\n",
       "      <td>9810</td>\n",
       "      <td>9568</td>\n",
       "      <td>1762</td>\n",
       "      <td>3293</td>\n",
       "      <td>1776</td>\n",
       "    </tr>\n",
       "    <tr>\n",
       "      <th>2</th>\n",
       "      <td>2</td>\n",
       "      <td>3</td>\n",
       "      <td>6353</td>\n",
       "      <td>8808</td>\n",
       "      <td>7684</td>\n",
       "      <td>2405</td>\n",
       "      <td>3516</td>\n",
       "      <td>7844</td>\n",
       "    </tr>\n",
       "    <tr>\n",
       "      <th>3</th>\n",
       "      <td>1</td>\n",
       "      <td>3</td>\n",
       "      <td>13265</td>\n",
       "      <td>1196</td>\n",
       "      <td>4221</td>\n",
       "      <td>6404</td>\n",
       "      <td>507</td>\n",
       "      <td>1788</td>\n",
       "    </tr>\n",
       "    <tr>\n",
       "      <th>4</th>\n",
       "      <td>2</td>\n",
       "      <td>3</td>\n",
       "      <td>22615</td>\n",
       "      <td>5410</td>\n",
       "      <td>7198</td>\n",
       "      <td>3915</td>\n",
       "      <td>1777</td>\n",
       "      <td>5185</td>\n",
       "    </tr>\n",
       "  </tbody>\n",
       "</table>\n",
       "</div>"
      ],
      "text/plain": [
       "   Channel  Region  Fresh  Milk  Grocery  Frozen  Detergents_Paper  Delicassen\n",
       "0        2       3  12669  9656     7561     214              2674        1338\n",
       "1        2       3   7057  9810     9568    1762              3293        1776\n",
       "2        2       3   6353  8808     7684    2405              3516        7844\n",
       "3        1       3  13265  1196     4221    6404               507        1788\n",
       "4        2       3  22615  5410     7198    3915              1777        5185"
      ]
     },
     "execution_count": 89,
     "metadata": {},
     "output_type": "execute_result"
    }
   ],
   "source": [
    "import pandas\n",
    "from bokeh.layouts import widgetbox,row, Column\n",
    "from bokeh.models.widgets import Select\n",
    "from bokeh.models import ColumnDataSource\n",
    "from bokeh.plotting import output_notebook, show, Figure\n",
    "from bokeh.io import push_notebook\n",
    "from bokeh.palettes import Accent\n",
    "from ipywidgets import interactive, Box, Layout,HBox, VBox\n",
    "from IPython.display import display\n",
    "import ipywidgets as widgets\n",
    "from sklearn import cluster\n",
    "from sklearn.preprocessing import StandardScaler\n",
    "import numpy\n",
    "import warnings\n",
    "warnings.filterwarnings('ignore')\n",
    "\n",
    "\n",
    "\n",
    "output_notebook()\n",
    "data = pandas.read_csv('Wholesale customers data.csv')\n",
    "data.head()"
   ]
  },
  {
   "cell_type": "code",
   "execution_count": 129,
   "metadata": {},
   "outputs": [
    {
     "data": {
      "text/html": [
       "\n",
       "\n",
       "    <div class=\"bk-root\">\n",
       "        <div class=\"bk-plotdiv\" id=\"7e1241d8-f5ae-4098-8760-7751c0e6bff2\"></div>\n",
       "    </div>\n",
       "<script type=\"text/javascript\">\n",
       "  \n",
       "  (function(root) {\n",
       "    function now() {\n",
       "      return new Date();\n",
       "    }\n",
       "  \n",
       "    var force = false;\n",
       "  \n",
       "    if (typeof (root._bokeh_onload_callbacks) === \"undefined\" || force === true) {\n",
       "      root._bokeh_onload_callbacks = [];\n",
       "      root._bokeh_is_loading = undefined;\n",
       "    }\n",
       "  \n",
       "  \n",
       "    \n",
       "    if (typeof (root._bokeh_timeout) === \"undefined\" || force === true) {\n",
       "      root._bokeh_timeout = Date.now() + 0;\n",
       "      root._bokeh_failed_load = false;\n",
       "    }\n",
       "  \n",
       "    var NB_LOAD_WARNING = {'data': {'text/html':\n",
       "       \"<div style='background-color: #fdd'>\\n\"+\n",
       "       \"<p>\\n\"+\n",
       "       \"BokehJS does not appear to have successfully loaded. If loading BokehJS from CDN, this \\n\"+\n",
       "       \"may be due to a slow or bad network connection. Possible fixes:\\n\"+\n",
       "       \"</p>\\n\"+\n",
       "       \"<ul>\\n\"+\n",
       "       \"<li>re-rerun `output_notebook()` to attempt to load from CDN again, or</li>\\n\"+\n",
       "       \"<li>use INLINE resources instead, as so:</li>\\n\"+\n",
       "       \"</ul>\\n\"+\n",
       "       \"<code>\\n\"+\n",
       "       \"from bokeh.resources import INLINE\\n\"+\n",
       "       \"output_notebook(resources=INLINE)\\n\"+\n",
       "       \"</code>\\n\"+\n",
       "       \"</div>\"}};\n",
       "  \n",
       "    function display_loaded() {\n",
       "      if (root.Bokeh !== undefined) {\n",
       "        var el = document.getElementById(\"7e1241d8-f5ae-4098-8760-7751c0e6bff2\");\n",
       "        if (el != null) {\n",
       "          el.textContent = \"BokehJS \" + Bokeh.version + \" successfully loaded.\";\n",
       "        }\n",
       "      } else if (Date.now() < root._bokeh_timeout) {\n",
       "        setTimeout(display_loaded, 100)\n",
       "      }\n",
       "    }\n",
       "  \n",
       "  \n",
       "    function run_callbacks() {\n",
       "      try {\n",
       "        root._bokeh_onload_callbacks.forEach(function(callback) { callback() });\n",
       "      }\n",
       "      finally {\n",
       "        delete root._bokeh_onload_callbacks\n",
       "      }\n",
       "      console.info(\"Bokeh: all callbacks have finished\");\n",
       "    }\n",
       "  \n",
       "    function load_libs(js_urls, callback) {\n",
       "      root._bokeh_onload_callbacks.push(callback);\n",
       "      if (root._bokeh_is_loading > 0) {\n",
       "        console.log(\"Bokeh: BokehJS is being loaded, scheduling callback at\", now());\n",
       "        return null;\n",
       "      }\n",
       "      if (js_urls == null || js_urls.length === 0) {\n",
       "        run_callbacks();\n",
       "        return null;\n",
       "      }\n",
       "      console.log(\"Bokeh: BokehJS not loaded, scheduling load and callback at\", now());\n",
       "      root._bokeh_is_loading = js_urls.length;\n",
       "      for (var i = 0; i < js_urls.length; i++) {\n",
       "        var url = js_urls[i];\n",
       "        var s = document.createElement('script');\n",
       "        s.src = url;\n",
       "        s.async = false;\n",
       "        s.onreadystatechange = s.onload = function() {\n",
       "          root._bokeh_is_loading--;\n",
       "          if (root._bokeh_is_loading === 0) {\n",
       "            console.log(\"Bokeh: all BokehJS libraries loaded\");\n",
       "            run_callbacks()\n",
       "          }\n",
       "        };\n",
       "        s.onerror = function() {\n",
       "          console.warn(\"failed to load library \" + url);\n",
       "        };\n",
       "        console.log(\"Bokeh: injecting script tag for BokehJS library: \", url);\n",
       "        document.getElementsByTagName(\"head\")[0].appendChild(s);\n",
       "      }\n",
       "    };var element = document.getElementById(\"7e1241d8-f5ae-4098-8760-7751c0e6bff2\");\n",
       "    if (element == null) {\n",
       "      console.log(\"Bokeh: ERROR: autoload.js configured with elementid '7e1241d8-f5ae-4098-8760-7751c0e6bff2' but no matching script tag was found. \")\n",
       "      return false;\n",
       "    }\n",
       "  \n",
       "    var js_urls = [];\n",
       "  \n",
       "    var inline_js = [\n",
       "      function(Bokeh) {\n",
       "        (function() {\n",
       "          var fn = function() {\n",
       "            var docs_json = {\"34231652-a0b3-4f51-b0aa-e789e240cff1\":{\"roots\":{\"references\":[{\"attributes\":{\"below\":[{\"id\":\"061ea176-4d38-4b25-a3ee-355fbbd06657\",\"type\":\"LinearAxis\"}],\"left\":[{\"id\":\"1dabd3a7-3010-4a43-8b37-216662de2369\",\"type\":\"LinearAxis\"}],\"plot_height\":450,\"plot_width\":450,\"renderers\":[{\"id\":\"061ea176-4d38-4b25-a3ee-355fbbd06657\",\"type\":\"LinearAxis\"},{\"id\":\"d232d68b-e1a2-47b6-ac50-2678db480f0a\",\"type\":\"Grid\"},{\"id\":\"1dabd3a7-3010-4a43-8b37-216662de2369\",\"type\":\"LinearAxis\"},{\"id\":\"5218023f-57d5-40d6-80bf-eb5c4ff2837f\",\"type\":\"Grid\"},{\"id\":\"be30c209-c57b-4443-abb3-25caddb6ce75\",\"type\":\"BoxAnnotation\"},{\"id\":\"cb65077a-4bc9-40f3-8637-9cf773cfac51\",\"type\":\"GlyphRenderer\"},{\"id\":\"2be8c4a6-0626-4c5a-85e9-ab575cd77a75\",\"type\":\"GlyphRenderer\"},{\"id\":\"49a9d8ac-cee7-42fc-9361-ceb9e7199f4b\",\"type\":\"GlyphRenderer\"}],\"title\":{\"id\":\"431d4f70-b51b-4620-8485-becd2929563d\",\"type\":\"Title\"},\"toolbar\":{\"id\":\"96bba012-fc6d-4025-9b08-6fa7116863c8\",\"type\":\"Toolbar\"},\"x_range\":{\"id\":\"e05d0c59-5c37-4814-b9ce-946e39514de4\",\"type\":\"DataRange1d\"},\"x_scale\":{\"id\":\"efcda6fe-cfe9-471f-9a23-0d7bc22e8530\",\"type\":\"LinearScale\"},\"y_range\":{\"id\":\"dbc9f51a-4d24-4d79-8a6c-5a089892df70\",\"type\":\"DataRange1d\"},\"y_scale\":{\"id\":\"85bbb144-5ae3-467f-9e99-4b6cdd1ecb0e\",\"type\":\"LinearScale\"}},\"id\":\"734faae4-c295-48d5-af34-4da8630d7d62\",\"subtype\":\"Figure\",\"type\":\"Plot\"},{\"attributes\":{\"below\":[{\"id\":\"a68bbce4-1c4d-4059-90cc-5e0fb938d857\",\"type\":\"LinearAxis\"}],\"left\":[{\"id\":\"0b30f7b5-03ee-43d4-bb6c-b96d408cc21a\",\"type\":\"LinearAxis\"}],\"plot_height\":450,\"plot_width\":450,\"renderers\":[{\"id\":\"a68bbce4-1c4d-4059-90cc-5e0fb938d857\",\"type\":\"LinearAxis\"},{\"id\":\"8f0b9385-289d-4e49-95f6-6f391fc658e7\",\"type\":\"Grid\"},{\"id\":\"0b30f7b5-03ee-43d4-bb6c-b96d408cc21a\",\"type\":\"LinearAxis\"},{\"id\":\"67e43e73-b4df-481c-b983-5381309de87b\",\"type\":\"Grid\"},{\"id\":\"b502782c-e2f4-48fa-ab77-b9ead9324d06\",\"type\":\"BoxAnnotation\"},{\"id\":\"9ce8f7c5-d594-4bfb-9f6e-3d3f51881053\",\"type\":\"GlyphRenderer\"},{\"id\":\"a58da714-06fb-49e6-8a6d-fb82e9cdab11\",\"type\":\"GlyphRenderer\"},{\"id\":\"54096297-0f89-4a21-b2ac-8991241d9299\",\"type\":\"GlyphRenderer\"}],\"title\":{\"id\":\"3144828c-f6f1-451a-a4b4-c4294355f37c\",\"type\":\"Title\"},\"toolbar\":{\"id\":\"2aceb1f3-8029-40cc-a80a-6515b64b8e4a\",\"type\":\"Toolbar\"},\"x_range\":{\"id\":\"4d444714-650d-4404-a5c8-4b81769b54ac\",\"type\":\"DataRange1d\"},\"x_scale\":{\"id\":\"8ca36f46-8ea2-496c-803b-6132a5f33b19\",\"type\":\"LinearScale\"},\"y_range\":{\"id\":\"d33e1c55-fb95-4039-8262-4b90f6f93e0d\",\"type\":\"DataRange1d\"},\"y_scale\":{\"id\":\"55b01bdc-c576-4ca2-96b6-8be63d158d58\",\"type\":\"LinearScale\"}},\"id\":\"c4b0a173-1461-4ce2-a9f7-1c5328a7ccf6\",\"subtype\":\"Figure\",\"type\":\"Plot\"},{\"attributes\":{\"plot\":null,\"text\":\"Analysis of different clustering methods\"},\"id\":\"431d4f70-b51b-4620-8485-becd2929563d\",\"type\":\"Title\"},{\"attributes\":{\"active_drag\":\"auto\",\"active_inspect\":\"auto\",\"active_scroll\":\"auto\",\"active_tap\":\"auto\",\"tools\":[{\"id\":\"b1c8e7f1-ec7c-47a7-8ef2-3251fae5149e\",\"type\":\"PanTool\"},{\"id\":\"329eeed2-5a91-4ed7-a154-9274f7451169\",\"type\":\"WheelZoomTool\"},{\"id\":\"1d3aae14-c736-45cc-91c2-2c0f2ba33263\",\"type\":\"BoxZoomTool\"},{\"id\":\"93963954-66fc-4f2b-a592-9a4f354743d5\",\"type\":\"SaveTool\"},{\"id\":\"ca6e927b-10d9-43fe-a8c5-1177d75a9ec7\",\"type\":\"ResetTool\"},{\"id\":\"f97486e1-31d2-4453-a5d8-5b3ea3135c38\",\"type\":\"HelpTool\"}]},\"id\":\"96bba012-fc6d-4025-9b08-6fa7116863c8\",\"type\":\"Toolbar\"},{\"attributes\":{},\"id\":\"329eeed2-5a91-4ed7-a154-9274f7451169\",\"type\":\"WheelZoomTool\"},{\"attributes\":{\"callback\":null,\"column_names\":[\"x\",\"y\"],\"data\":{\"x\":[12669,7057,6353,13265,9413,12126,7579,5963,6006,3366,13146,10253,1020,5876,18601,7780,17546,5567,16165,9898,14276,4113,18815,2612,1502,688,15168,4591,19176,10850,630,9670,5181,3103,11519,4967,6269,3347,491,5264,4098,5417,13779,6137,8590,7823,9396,4760,85,9,2446,8352,16705,18291,4420,8190,20398,717,12205,10766,1640,7005,219,10362,20874,11867,7864,11405,12754,11314,5626,3,23,403,503,9658,11594,1420,2932,14100,15587,1454,8797,1531,1406,11818,12579,19046,14438,18044,11134,11173,6990,20049,8258,17160,4020,12212,11170,19219,140,7149,2101,14903,9434,7388,6300,4625,3087,13537,5387,17623,10405,18827,7769,9203,5924,16225,1289,18840,3463,622,1989,3830,17773,2861,355,1725,12434,15177,5531,5224,15615,4822,2926,5809,5414,260,200,955,514,286,2343,12759,11002,3157,12356,694,327,8170,3009,2438,8040,834,16936,13624,5509,180,7107,17023,2427,11686,9670,3067,4484,583,1956,1107,6373,2541,1537,5550,18567,7291,3317,2362,2806,2532,18044,18,4155,14755,5396,5041,2790,7274,12680,4042,1869,8656,11072,2344,964,15603,1838,8635,18692,7363,18226,11210,6202,3062,8885,13569,15671,8040,3191,6134,6623,10379,11092,8475,9193,7858,2153,1073,5909,572,20893,11908,15218,4720,2083,514,894,680,9061,11693,17360,3366,12238,7149,15354,16260,2708,6022,2838,3996,7588,19087,8090,6758,444,16448,5283,2886,2599,161,243,6468,17327,6987,918,7034,2137,9784,10617,1479,7127,1182,11800,9759,1774,9155,15881,13360,4414,542,16933,5113,9790,11223,8565,16823,13970,9351,3,2617,381,2320,255,1689,3043,1198,2771,3428,5981,3521,1210,608,117,14039,190,37,759,796,19746,4734,2121,4627,2615,4692,9561,3477,6211,20105,3884,15076,6338,5841,3136,3225,4048,17770,1821,10683,11635,1206,9785,9385,3352,2647,518,12377,9602,4515,11535,11442,9612,4446,18073,6884,7362,8257,8708,6633,2126,97,4983,5969,7842,4389,5065,660,8861,4456,17063,17565,16980,11243,13134,3047,8607,3097,8533,21117,1982,16731,10290,2787],\"y\":[9656,9810,8808,1196,8259,3199,4956,3648,11093,5403,1124,1114,8816,6157,6327,2495,4519,871,4230,961,803,20484,3610,4339,1979,5491,10556,15729,3065,7555,11095,7027,22044,14069,6152,21412,1095,4051,10473,3683,29892,9933,1970,5360,3045,6245,11601,1227,20959,1534,7260,2820,2037,1266,5139,6343,1137,3587,12697,1175,3259,829,9540,9232,1563,3327,542,596,2762,3090,12220,2920,2616,254,112,2182,7779,10810,6459,2132,1014,6337,10646,8397,16729,1648,11114,2770,2295,1080,793,2521,3880,1891,2344,1200,3234,201,10769,1840,8847,2428,589,2032,1042,1882,1289,8579,8080,4257,4979,4280,1596,3677,1936,3373,584,1825,3328,1371,9250,55,10690,5291,1366,6570,7704,3651,540,2024,15726,7603,12653,6721,3195,735,717,8675,25862,5479,7677,1208,7845,7330,7075,4888,6036,8533,918,6448,521,8002,7639,11577,6250,295,1461,3485,1012,5139,7097,2154,2280,13240,14399,685,891,11711,780,4737,3748,12729,1895,1012,6602,6551,10765,16599,1475,7504,367,899,7503,1115,2527,659,3243,2204,577,2746,5989,10678,4984,2703,6380,820,3838,475,659,3576,7775,6154,2428,346,5279,3795,1993,23133,1860,17972,5008,1931,4885,1110,1115,9679,23527,9763,1222,8053,258,1032,5007,8323,1703,1610,829,2317,6200,2884,7108,2247,2102,594,2160,3354,3086,11103,1897,1304,3199,4560,879,6243,13316,5302,3688,7460,12939,12867,2374,1020,20655,1492,3737,925,1795,14982,1375,3088,2713,25071,3696,1897,713,944,1610,899,2209,1486,1786,14881,4980,928,1511,1347,333,1188,4025,5763,5758,6964,1172,2602,6939,2380,14641,1099,10044,1106,6264,7393,727,1275,18664,5878,2872,607,1601,997,873,6128,2217,894,337,1887,3801,6257,2256,1450,8630,3294,5164,4591,1364,21858,922,3620,848,1530,1181,2761,4180,865,1316,11991,1666,1032,577,906,4613,1046,12844,3880,3634,2096,3289,3605,4859,1990,6046,10940,5499,8494,3783,5266,4847,3686,2884,2408,9347,5970,1750,4230,5506,1162,3218,3922,1981,1698]}},\"id\":\"dc8f61ac-be39-41d2-bded-a6deb246667b\",\"type\":\"ColumnDataSource\"},{\"attributes\":{\"callback\":null},\"id\":\"dbc9f51a-4d24-4d79-8a6c-5a089892df70\",\"type\":\"DataRange1d\"},{\"attributes\":{\"fill_alpha\":{\"value\":0.1},\"fill_color\":{\"value\":\"#1f77b4\"},\"line_alpha\":{\"value\":0.1},\"line_color\":{\"value\":\"#1f77b4\"},\"size\":{\"units\":\"screen\",\"value\":10},\"x\":{\"field\":\"x\"},\"y\":{\"field\":\"y\"}},\"id\":\"c699b0ba-e211-4daa-b4cc-6270e662aa52\",\"type\":\"Circle\"},{\"attributes\":{\"overlay\":{\"id\":\"b502782c-e2f4-48fa-ab77-b9ead9324d06\",\"type\":\"BoxAnnotation\"}},\"id\":\"2216ef21-9480-4696-8f89-cb34c3a84fdb\",\"type\":\"BoxZoomTool\"},{\"attributes\":{},\"id\":\"93963954-66fc-4f2b-a592-9a4f354743d5\",\"type\":\"SaveTool\"},{\"attributes\":{\"data_source\":{\"id\":\"201e172f-4070-43c9-83c1-513f21e5d696\",\"type\":\"ColumnDataSource\"},\"glyph\":{\"id\":\"704f1a37-71a6-4f4e-a660-4c792ce21a2c\",\"type\":\"Circle\"},\"hover_glyph\":null,\"muted_glyph\":null,\"nonselection_glyph\":{\"id\":\"e321bec0-dbd8-432d-be5e-6d891823a52c\",\"type\":\"Circle\"},\"selection_glyph\":null,\"view\":{\"id\":\"187e0f11-f0cd-4cd5-9a72-9b43cfcd2544\",\"type\":\"CDSView\"}},\"id\":\"cb65077a-4bc9-40f3-8637-9cf773cfac51\",\"type\":\"GlyphRenderer\"},{\"attributes\":{},\"id\":\"8dad08df-faab-43f4-8ed0-d929e1a3556b\",\"type\":\"BasicTicker\"},{\"attributes\":{\"callback\":null,\"column_names\":[\"x\",\"y\"],\"data\":{\"x\":[12669,7057,6353,13265,9413,12126,7579,5963,6006,3366,13146,10253,1020,5876,18601,7780,17546,5567,16165,9898,14276,4113,18815,2612,1502,688,15168,4591,19176,10850,630,9670,5181,3103,11519,4967,6269,3347,491,5264,4098,5417,13779,6137,8590,7823,9396,4760,85,9,2446,8352,16705,18291,4420,8190,20398,717,12205,10766,1640,7005,219,10362,20874,11867,7864,11405,12754,11314,5626,3,23,403,503,9658,11594,1420,2932,14100,15587,1454,8797,1531,1406,11818,12579,19046,14438,18044,11134,11173,6990,20049,8258,17160,4020,12212,11170,19219,140,7149,2101,14903,9434,7388,6300,4625,3087,13537,5387,17623,10405,18827,7769,9203,5924,16225,1289,18840,3463,622,1989,3830,17773,2861,355,1725,12434,15177,5531,5224,15615,4822,2926,5809,5414,260,200,955,514,286,2343,12759,11002,3157,12356,694,327,8170,3009,2438,8040,834,16936,13624,5509,180,7107,17023,2427,11686,9670,3067,4484,583,1956,1107,6373,2541,1537,5550,18567,7291,3317,2362,2806,2532,18044,18,4155,14755,5396,5041,2790,7274,12680,4042,1869,8656,11072,2344,964,15603,1838,8635,18692,7363,18226,11210,6202,3062,8885,13569,15671,8040,3191,6134,6623,10379,11092,8475,9193,7858,2153,1073,5909,572,20893,11908,15218,4720,2083,514,894,680,9061,11693,17360,3366,12238,7149,15354,16260,2708,6022,2838,3996,7588,19087,8090,6758,444,16448,5283,2886,2599,161,243,6468,17327,6987,918,7034,2137,9784,10617,1479,7127,1182,11800,9759,1774,9155,15881,13360,4414,542,16933,5113,9790,11223,8565,16823,13970,9351,3,2617,381,2320,255,1689,3043,1198,2771,3428,5981,3521,1210,608,117,14039,190,37,759,796,19746,4734,2121,4627,2615,4692,9561,3477,6211,20105,3884,15076,6338,5841,3136,3225,4048,17770,1821,10683,11635,1206,9785,9385,3352,2647,518,12377,9602,4515,11535,11442,9612,4446,18073,6884,7362,8257,8708,6633,2126,97,4983,5969,7842,4389,5065,660,8861,4456,17063,17565,16980,11243,13134,3047,8607,3097,8533,21117,1982,16731,10290,2787],\"y\":[9656,9810,8808,1196,8259,3199,4956,3648,11093,5403,1124,1114,8816,6157,6327,2495,4519,871,4230,961,803,20484,3610,4339,1979,5491,10556,15729,3065,7555,11095,7027,22044,14069,6152,21412,1095,4051,10473,3683,29892,9933,1970,5360,3045,6245,11601,1227,20959,1534,7260,2820,2037,1266,5139,6343,1137,3587,12697,1175,3259,829,9540,9232,1563,3327,542,596,2762,3090,12220,2920,2616,254,112,2182,7779,10810,6459,2132,1014,6337,10646,8397,16729,1648,11114,2770,2295,1080,793,2521,3880,1891,2344,1200,3234,201,10769,1840,8847,2428,589,2032,1042,1882,1289,8579,8080,4257,4979,4280,1596,3677,1936,3373,584,1825,3328,1371,9250,55,10690,5291,1366,6570,7704,3651,540,2024,15726,7603,12653,6721,3195,735,717,8675,25862,5479,7677,1208,7845,7330,7075,4888,6036,8533,918,6448,521,8002,7639,11577,6250,295,1461,3485,1012,5139,7097,2154,2280,13240,14399,685,891,11711,780,4737,3748,12729,1895,1012,6602,6551,10765,16599,1475,7504,367,899,7503,1115,2527,659,3243,2204,577,2746,5989,10678,4984,2703,6380,820,3838,475,659,3576,7775,6154,2428,346,5279,3795,1993,23133,1860,17972,5008,1931,4885,1110,1115,9679,23527,9763,1222,8053,258,1032,5007,8323,1703,1610,829,2317,6200,2884,7108,2247,2102,594,2160,3354,3086,11103,1897,1304,3199,4560,879,6243,13316,5302,3688,7460,12939,12867,2374,1020,20655,1492,3737,925,1795,14982,1375,3088,2713,25071,3696,1897,713,944,1610,899,2209,1486,1786,14881,4980,928,1511,1347,333,1188,4025,5763,5758,6964,1172,2602,6939,2380,14641,1099,10044,1106,6264,7393,727,1275,18664,5878,2872,607,1601,997,873,6128,2217,894,337,1887,3801,6257,2256,1450,8630,3294,5164,4591,1364,21858,922,3620,848,1530,1181,2761,4180,865,1316,11991,1666,1032,577,906,4613,1046,12844,3880,3634,2096,3289,3605,4859,1990,6046,10940,5499,8494,3783,5266,4847,3686,2884,2408,9347,5970,1750,4230,5506,1162,3218,3922,1981,1698]}},\"id\":\"acae6065-75dc-46f2-bb7a-b4a163ab8116\",\"type\":\"ColumnDataSource\"},{\"attributes\":{\"axis_label\":\"Fresh\",\"formatter\":{\"id\":\"2cde8d6c-17dc-4681-98c5-3a4cc0916d97\",\"type\":\"BasicTickFormatter\"},\"plot\":{\"id\":\"c4b0a173-1461-4ce2-a9f7-1c5328a7ccf6\",\"subtype\":\"Figure\",\"type\":\"Plot\"},\"ticker\":{\"id\":\"c4e17c9c-6653-480f-a4a0-4bc9b25a25db\",\"type\":\"BasicTicker\"}},\"id\":\"a68bbce4-1c4d-4059-90cc-5e0fb938d857\",\"type\":\"LinearAxis\"},{\"attributes\":{\"fill_alpha\":{\"value\":0.1},\"fill_color\":{\"value\":\"#1f77b4\"},\"line_alpha\":{\"value\":0.1},\"line_color\":{\"value\":\"#1f77b4\"},\"size\":{\"units\":\"screen\",\"value\":10},\"x\":{\"field\":\"x\"},\"y\":{\"field\":\"y\"}},\"id\":\"c66eab81-03c2-4ccf-8c44-b17118734e71\",\"type\":\"Circle\"},{\"attributes\":{\"bottom_units\":\"screen\",\"fill_alpha\":{\"value\":0.5},\"fill_color\":{\"value\":\"lightgrey\"},\"left_units\":\"screen\",\"level\":\"overlay\",\"line_alpha\":{\"value\":1.0},\"line_color\":{\"value\":\"black\"},\"line_dash\":[4,4],\"line_width\":{\"value\":2},\"plot\":null,\"render_mode\":\"css\",\"right_units\":\"screen\",\"top_units\":\"screen\"},\"id\":\"b502782c-e2f4-48fa-ab77-b9ead9324d06\",\"type\":\"BoxAnnotation\"},{\"attributes\":{\"data_source\":{\"id\":\"2a7ca87f-cab0-45b1-aead-babe231e8635\",\"type\":\"ColumnDataSource\"},\"glyph\":{\"id\":\"4f74f999-82d4-4cfa-aa9f-781548d2b700\",\"type\":\"Circle\"},\"hover_glyph\":null,\"muted_glyph\":null,\"nonselection_glyph\":{\"id\":\"3e59f77f-15ee-4be1-b671-75ba2469fee7\",\"type\":\"Circle\"},\"selection_glyph\":null,\"view\":{\"id\":\"72da5e39-880d-447b-b7cd-63b9d7554c4a\",\"type\":\"CDSView\"}},\"id\":\"9ce8f7c5-d594-4bfb-9f6e-3d3f51881053\",\"type\":\"GlyphRenderer\"},{\"attributes\":{\"callback\":null,\"column_names\":[\"x\",\"y\"],\"data\":{\"x\":[],\"y\":[]}},\"id\":\"201e172f-4070-43c9-83c1-513f21e5d696\",\"type\":\"ColumnDataSource\"},{\"attributes\":{\"bottom_units\":\"screen\",\"fill_alpha\":{\"value\":0.5},\"fill_color\":{\"value\":\"lightgrey\"},\"left_units\":\"screen\",\"level\":\"overlay\",\"line_alpha\":{\"value\":1.0},\"line_color\":{\"value\":\"black\"},\"line_dash\":[4,4],\"line_width\":{\"value\":2},\"plot\":null,\"render_mode\":\"css\",\"right_units\":\"screen\",\"top_units\":\"screen\"},\"id\":\"be30c209-c57b-4443-abb3-25caddb6ce75\",\"type\":\"BoxAnnotation\"},{\"attributes\":{\"data_source\":{\"id\":\"acae6065-75dc-46f2-bb7a-b4a163ab8116\",\"type\":\"ColumnDataSource\"},\"glyph\":{\"id\":\"57969a0b-f14d-44aa-8152-02618ddf3529\",\"type\":\"Circle\"},\"hover_glyph\":null,\"muted_glyph\":null,\"nonselection_glyph\":{\"id\":\"da3c4cd3-4632-4722-975e-1a5238c8d710\",\"type\":\"Circle\"},\"selection_glyph\":null,\"view\":{\"id\":\"0839c52f-c5b9-47d3-9ba5-da3dc61b6a91\",\"type\":\"CDSView\"}},\"id\":\"2be8c4a6-0626-4c5a-85e9-ab575cd77a75\",\"type\":\"GlyphRenderer\"},{\"attributes\":{\"fill_alpha\":{\"value\":0.1},\"fill_color\":{\"value\":\"#1f77b4\"},\"line_alpha\":{\"value\":0.1},\"line_color\":{\"value\":\"#1f77b4\"},\"size\":{\"units\":\"screen\",\"value\":10},\"x\":{\"field\":\"x\"},\"y\":{\"field\":\"y\"}},\"id\":\"da3c4cd3-4632-4722-975e-1a5238c8d710\",\"type\":\"Circle\"},{\"attributes\":{\"callback\":null},\"id\":\"4d444714-650d-4404-a5c8-4b81769b54ac\",\"type\":\"DataRange1d\"},{\"attributes\":{\"fill_alpha\":{\"value\":0.5},\"fill_color\":{\"value\":\"#7fc97f\"},\"line_alpha\":{\"value\":0.5},\"line_color\":{\"value\":\"#7fc97f\"},\"size\":{\"units\":\"screen\",\"value\":10},\"x\":{\"field\":\"x\"},\"y\":{\"field\":\"y\"}},\"id\":\"57969a0b-f14d-44aa-8152-02618ddf3529\",\"type\":\"Circle\"},{\"attributes\":{\"callback\":null},\"id\":\"d33e1c55-fb95-4039-8262-4b90f6f93e0d\",\"type\":\"DataRange1d\"},{\"attributes\":{\"source\":{\"id\":\"acae6065-75dc-46f2-bb7a-b4a163ab8116\",\"type\":\"ColumnDataSource\"}},\"id\":\"0839c52f-c5b9-47d3-9ba5-da3dc61b6a91\",\"type\":\"CDSView\"},{\"attributes\":{},\"id\":\"f97486e1-31d2-4453-a5d8-5b3ea3135c38\",\"type\":\"HelpTool\"},{\"attributes\":{\"dimension\":1,\"plot\":{\"id\":\"c4b0a173-1461-4ce2-a9f7-1c5328a7ccf6\",\"subtype\":\"Figure\",\"type\":\"Plot\"},\"ticker\":{\"id\":\"3f1a69d1-484a-4e50-80fc-d746f8ff0481\",\"type\":\"BasicTicker\"}},\"id\":\"67e43e73-b4df-481c-b983-5381309de87b\",\"type\":\"Grid\"},{\"attributes\":{},\"id\":\"c3e681ff-4a1c-4c98-b712-fe380c74dd28\",\"type\":\"BasicTickFormatter\"},{\"attributes\":{\"data_source\":{\"id\":\"1b3ab082-6866-481b-bb9f-0cc9f516cd77\",\"type\":\"ColumnDataSource\"},\"glyph\":{\"id\":\"06232952-5606-43ee-afbb-970bc2a4a3bc\",\"type\":\"Circle\"},\"hover_glyph\":null,\"muted_glyph\":null,\"nonselection_glyph\":{\"id\":\"c3202aa8-b89c-470a-992e-43c394e0a264\",\"type\":\"Circle\"},\"selection_glyph\":null,\"view\":{\"id\":\"337b86da-3bcd-4289-ae7f-65f107411f54\",\"type\":\"CDSView\"}},\"id\":\"54096297-0f89-4a21-b2ac-8991241d9299\",\"type\":\"GlyphRenderer\"},{\"attributes\":{\"source\":{\"id\":\"1b3ab082-6866-481b-bb9f-0cc9f516cd77\",\"type\":\"ColumnDataSource\"}},\"id\":\"337b86da-3bcd-4289-ae7f-65f107411f54\",\"type\":\"CDSView\"},{\"attributes\":{\"plot\":{\"id\":\"734faae4-c295-48d5-af34-4da8630d7d62\",\"subtype\":\"Figure\",\"type\":\"Plot\"},\"ticker\":{\"id\":\"8dad08df-faab-43f4-8ed0-d929e1a3556b\",\"type\":\"BasicTicker\"}},\"id\":\"d232d68b-e1a2-47b6-ac50-2678db480f0a\",\"type\":\"Grid\"},{\"attributes\":{\"fill_alpha\":{\"value\":0.5},\"fill_color\":{\"value\":\"grey\"},\"line_alpha\":{\"value\":0.5},\"line_color\":{\"value\":\"grey\"},\"size\":{\"units\":\"screen\",\"value\":10},\"x\":{\"field\":\"x\"},\"y\":{\"field\":\"y\"}},\"id\":\"4f74f999-82d4-4cfa-aa9f-781548d2b700\",\"type\":\"Circle\"},{\"attributes\":{},\"id\":\"3cb9de08-70c2-4dba-bc9e-2342cb4eca52\",\"type\":\"BasicTickFormatter\"},{\"attributes\":{\"axis_label\":\"Fresh\",\"formatter\":{\"id\":\"e3390230-3d4e-4d04-917b-c0b252e072fd\",\"type\":\"BasicTickFormatter\"},\"plot\":{\"id\":\"734faae4-c295-48d5-af34-4da8630d7d62\",\"subtype\":\"Figure\",\"type\":\"Plot\"},\"ticker\":{\"id\":\"8dad08df-faab-43f4-8ed0-d929e1a3556b\",\"type\":\"BasicTicker\"}},\"id\":\"061ea176-4d38-4b25-a3ee-355fbbd06657\",\"type\":\"LinearAxis\"},{\"attributes\":{\"fill_alpha\":{\"value\":0.5},\"fill_color\":{\"value\":\"#beaed4\"},\"line_alpha\":{\"value\":0.5},\"line_color\":{\"value\":\"#beaed4\"},\"size\":{\"units\":\"screen\",\"value\":10},\"x\":{\"field\":\"x\"},\"y\":{\"field\":\"y\"}},\"id\":\"d15d321e-b127-4540-9b1d-31992780a69c\",\"type\":\"Circle\"},{\"attributes\":{},\"id\":\"8ca36f46-8ea2-496c-803b-6132a5f33b19\",\"type\":\"LinearScale\"},{\"attributes\":{},\"id\":\"2a4189fa-3ebd-4bf1-841d-1019c623c74c\",\"type\":\"ResetTool\"},{\"attributes\":{\"fill_alpha\":{\"value\":0.1},\"fill_color\":{\"value\":\"#1f77b4\"},\"line_alpha\":{\"value\":0.1},\"line_color\":{\"value\":\"#1f77b4\"},\"size\":{\"units\":\"screen\",\"value\":10},\"x\":{\"field\":\"x\"},\"y\":{\"field\":\"y\"}},\"id\":\"c3202aa8-b89c-470a-992e-43c394e0a264\",\"type\":\"Circle\"},{\"attributes\":{\"data_source\":{\"id\":\"3a718393-96f4-43ac-b486-1f07841ee662\",\"type\":\"ColumnDataSource\"},\"glyph\":{\"id\":\"d15d321e-b127-4540-9b1d-31992780a69c\",\"type\":\"Circle\"},\"hover_glyph\":null,\"muted_glyph\":null,\"nonselection_glyph\":{\"id\":\"c66eab81-03c2-4ccf-8c44-b17118734e71\",\"type\":\"Circle\"},\"selection_glyph\":null,\"view\":{\"id\":\"4af55777-8242-4bbe-a9f7-fc2ab87960e7\",\"type\":\"CDSView\"}},\"id\":\"49a9d8ac-cee7-42fc-9361-ceb9e7199f4b\",\"type\":\"GlyphRenderer\"},{\"attributes\":{\"plot\":{\"id\":\"c4b0a173-1461-4ce2-a9f7-1c5328a7ccf6\",\"subtype\":\"Figure\",\"type\":\"Plot\"},\"ticker\":{\"id\":\"c4e17c9c-6653-480f-a4a0-4bc9b25a25db\",\"type\":\"BasicTicker\"}},\"id\":\"8f0b9385-289d-4e49-95f6-6f391fc658e7\",\"type\":\"Grid\"},{\"attributes\":{\"axis_label\":\"Milk\",\"formatter\":{\"id\":\"c3e681ff-4a1c-4c98-b712-fe380c74dd28\",\"type\":\"BasicTickFormatter\"},\"plot\":{\"id\":\"734faae4-c295-48d5-af34-4da8630d7d62\",\"subtype\":\"Figure\",\"type\":\"Plot\"},\"ticker\":{\"id\":\"3e83cdc5-e41a-4fe6-8102-2c86a0c53ab2\",\"type\":\"BasicTicker\"}},\"id\":\"1dabd3a7-3010-4a43-8b37-216662de2369\",\"type\":\"LinearAxis\"},{\"attributes\":{\"fill_alpha\":{\"value\":0.5},\"fill_color\":{\"value\":\"#beaed4\"},\"line_alpha\":{\"value\":0.5},\"line_color\":{\"value\":\"#beaed4\"},\"size\":{\"units\":\"screen\",\"value\":10},\"x\":{\"field\":\"x\"},\"y\":{\"field\":\"y\"}},\"id\":\"06232952-5606-43ee-afbb-970bc2a4a3bc\",\"type\":\"Circle\"},{\"attributes\":{\"source\":{\"id\":\"dc8f61ac-be39-41d2-bded-a6deb246667b\",\"type\":\"ColumnDataSource\"}},\"id\":\"d60132e1-a22c-4ed9-83d3-5889c0824c86\",\"type\":\"CDSView\"},{\"attributes\":{},\"id\":\"78ff0674-1f7b-48b5-99e7-8332f80138c9\",\"type\":\"WheelZoomTool\"},{\"attributes\":{},\"id\":\"3f1a69d1-484a-4e50-80fc-d746f8ff0481\",\"type\":\"BasicTicker\"},{\"attributes\":{\"data_source\":{\"id\":\"dc8f61ac-be39-41d2-bded-a6deb246667b\",\"type\":\"ColumnDataSource\"},\"glyph\":{\"id\":\"46963517-1140-4214-85ba-3f24cc9d6d1c\",\"type\":\"Circle\"},\"hover_glyph\":null,\"muted_glyph\":null,\"nonselection_glyph\":{\"id\":\"c699b0ba-e211-4daa-b4cc-6270e662aa52\",\"type\":\"Circle\"},\"selection_glyph\":null,\"view\":{\"id\":\"d60132e1-a22c-4ed9-83d3-5889c0824c86\",\"type\":\"CDSView\"}},\"id\":\"a58da714-06fb-49e6-8a6d-fb82e9cdab11\",\"type\":\"GlyphRenderer\"},{\"attributes\":{\"callback\":null},\"id\":\"e05d0c59-5c37-4814-b9ce-946e39514de4\",\"type\":\"DataRange1d\"},{\"attributes\":{\"source\":{\"id\":\"3a718393-96f4-43ac-b486-1f07841ee662\",\"type\":\"ColumnDataSource\"}},\"id\":\"4af55777-8242-4bbe-a9f7-fc2ab87960e7\",\"type\":\"CDSView\"},{\"attributes\":{\"active_drag\":\"auto\",\"active_inspect\":\"auto\",\"active_scroll\":\"auto\",\"active_tap\":\"auto\",\"tools\":[{\"id\":\"995c5045-ca7e-4e63-b9f3-48bb326b1216\",\"type\":\"PanTool\"},{\"id\":\"78ff0674-1f7b-48b5-99e7-8332f80138c9\",\"type\":\"WheelZoomTool\"},{\"id\":\"2216ef21-9480-4696-8f89-cb34c3a84fdb\",\"type\":\"BoxZoomTool\"},{\"id\":\"16f8401f-42ca-4776-a791-14f6a55eb391\",\"type\":\"SaveTool\"},{\"id\":\"2a4189fa-3ebd-4bf1-841d-1019c623c74c\",\"type\":\"ResetTool\"},{\"id\":\"c35df934-e8df-4559-bc73-f30ac9466a31\",\"type\":\"HelpTool\"}]},\"id\":\"2aceb1f3-8029-40cc-a80a-6515b64b8e4a\",\"type\":\"Toolbar\"},{\"attributes\":{\"callback\":null,\"column_names\":[\"x\",\"y\"],\"data\":{\"x\":[22615,31714,21217,24653,31276,26373,22647,43088,21632,29729,29955,56159,24025,44466,40721,27329,35942,19913,19899,16117,22925,43265,24904,9198,56082,36050,76237,21465,42312,30379,37036,22039,31812,45640,112151,36847,30624,25203,12119,20782,25962,47493,22096,24929,29526,31614,56083,53205,23257,36817,27901,49063,25767,68951,40254,42786,21273,29635,25977,32717,22321,27082,27380,22686,22335,39679,38793,28257,34454,20918,23632,27167,26539,25606,25066,26400,31012,29703,39228,14531],\"y\":[5410,12319,6208,9465,1917,36423,9776,2100,1318,4786,4362,555,4332,54259,3916,1449,38369,6759,5332,46197,73498,5025,3836,27472,3504,1642,3473,7243,926,13252,7152,8384,1433,6958,29627,43950,7209,11487,28326,5921,1780,2567,3575,1801,7961,489,4563,4959,1372,3045,3749,3965,3613,4411,640,286,2013,2335,3587,16784,3216,6817,7184,134,1196,3944,3154,944,7435,1916,6730,2801,4753,11006,5010,1377,16687,12051,1431,15488]}},\"id\":\"1b3ab082-6866-481b-bb9f-0cc9f516cd77\",\"type\":\"ColumnDataSource\"},{\"attributes\":{\"overlay\":{\"id\":\"be30c209-c57b-4443-abb3-25caddb6ce75\",\"type\":\"BoxAnnotation\"}},\"id\":\"1d3aae14-c736-45cc-91c2-2c0f2ba33263\",\"type\":\"BoxZoomTool\"},{\"attributes\":{\"callback\":null,\"column_names\":[\"x\",\"y\"],\"data\":{\"x\":[22615,31714,21217,24653,31276,26373,22647,43088,21632,29729,29955,56159,24025,44466,40721,27329,35942,19913,19899,16117,22925,43265,24904,9198,56082,36050,76237,21465,42312,30379,37036,22039,31812,45640,112151,36847,30624,25203,12119,20782,25962,47493,22096,24929,29526,31614,56083,53205,23257,36817,27901,49063,25767,68951,40254,42786,21273,29635,25977,32717,22321,27082,27380,22686,22335,39679,38793,28257,34454,20918,23632,27167,26539,25606,25066,26400,31012,29703,39228,14531],\"y\":[5410,12319,6208,9465,1917,36423,9776,2100,1318,4786,4362,555,4332,54259,3916,1449,38369,6759,5332,46197,73498,5025,3836,27472,3504,1642,3473,7243,926,13252,7152,8384,1433,6958,29627,43950,7209,11487,28326,5921,1780,2567,3575,1801,7961,489,4563,4959,1372,3045,3749,3965,3613,4411,640,286,2013,2335,3587,16784,3216,6817,7184,134,1196,3944,3154,944,7435,1916,6730,2801,4753,11006,5010,1377,16687,12051,1431,15488]}},\"id\":\"3a718393-96f4-43ac-b486-1f07841ee662\",\"type\":\"ColumnDataSource\"},{\"attributes\":{},\"id\":\"ca6e927b-10d9-43fe-a8c5-1177d75a9ec7\",\"type\":\"ResetTool\"},{\"attributes\":{\"callback\":null,\"column_names\":[\"x\",\"y\"],\"data\":{\"x\":[],\"y\":[]}},\"id\":\"2a7ca87f-cab0-45b1-aead-babe231e8635\",\"type\":\"ColumnDataSource\"},{\"attributes\":{\"dimension\":1,\"plot\":{\"id\":\"734faae4-c295-48d5-af34-4da8630d7d62\",\"subtype\":\"Figure\",\"type\":\"Plot\"},\"ticker\":{\"id\":\"3e83cdc5-e41a-4fe6-8102-2c86a0c53ab2\",\"type\":\"BasicTicker\"}},\"id\":\"5218023f-57d5-40d6-80bf-eb5c4ff2837f\",\"type\":\"Grid\"},{\"attributes\":{},\"id\":\"efcda6fe-cfe9-471f-9a23-0d7bc22e8530\",\"type\":\"LinearScale\"},{\"attributes\":{\"axis_label\":\"Milk\",\"formatter\":{\"id\":\"3cb9de08-70c2-4dba-bc9e-2342cb4eca52\",\"type\":\"BasicTickFormatter\"},\"plot\":{\"id\":\"c4b0a173-1461-4ce2-a9f7-1c5328a7ccf6\",\"subtype\":\"Figure\",\"type\":\"Plot\"},\"ticker\":{\"id\":\"3f1a69d1-484a-4e50-80fc-d746f8ff0481\",\"type\":\"BasicTicker\"}},\"id\":\"0b30f7b5-03ee-43d4-bb6c-b96d408cc21a\",\"type\":\"LinearAxis\"},{\"attributes\":{\"source\":{\"id\":\"2a7ca87f-cab0-45b1-aead-babe231e8635\",\"type\":\"ColumnDataSource\"}},\"id\":\"72da5e39-880d-447b-b7cd-63b9d7554c4a\",\"type\":\"CDSView\"},{\"attributes\":{\"children\":[{\"id\":\"734faae4-c295-48d5-af34-4da8630d7d62\",\"subtype\":\"Figure\",\"type\":\"Plot\"},{\"id\":\"c4b0a173-1461-4ce2-a9f7-1c5328a7ccf6\",\"subtype\":\"Figure\",\"type\":\"Plot\"}]},\"id\":\"c36408f2-fb19-402d-b4b0-5c78b8ebebe7\",\"type\":\"Row\"},{\"attributes\":{},\"id\":\"16f8401f-42ca-4776-a791-14f6a55eb391\",\"type\":\"SaveTool\"},{\"attributes\":{},\"id\":\"b1c8e7f1-ec7c-47a7-8ef2-3251fae5149e\",\"type\":\"PanTool\"},{\"attributes\":{},\"id\":\"c35df934-e8df-4559-bc73-f30ac9466a31\",\"type\":\"HelpTool\"},{\"attributes\":{\"plot\":null,\"text\":\"Analysis of different clustering methods\"},\"id\":\"3144828c-f6f1-451a-a4b4-c4294355f37c\",\"type\":\"Title\"},{\"attributes\":{},\"id\":\"3e83cdc5-e41a-4fe6-8102-2c86a0c53ab2\",\"type\":\"BasicTicker\"},{\"attributes\":{},\"id\":\"55b01bdc-c576-4ca2-96b6-8be63d158d58\",\"type\":\"LinearScale\"},{\"attributes\":{},\"id\":\"e3390230-3d4e-4d04-917b-c0b252e072fd\",\"type\":\"BasicTickFormatter\"},{\"attributes\":{},\"id\":\"995c5045-ca7e-4e63-b9f3-48bb326b1216\",\"type\":\"PanTool\"},{\"attributes\":{\"fill_alpha\":{\"value\":0.5},\"fill_color\":{\"value\":\"#7fc97f\"},\"line_alpha\":{\"value\":0.5},\"line_color\":{\"value\":\"#7fc97f\"},\"size\":{\"units\":\"screen\",\"value\":10},\"x\":{\"field\":\"x\"},\"y\":{\"field\":\"y\"}},\"id\":\"46963517-1140-4214-85ba-3f24cc9d6d1c\",\"type\":\"Circle\"},{\"attributes\":{},\"id\":\"c4e17c9c-6653-480f-a4a0-4bc9b25a25db\",\"type\":\"BasicTicker\"},{\"attributes\":{\"fill_alpha\":{\"value\":0.1},\"fill_color\":{\"value\":\"#1f77b4\"},\"line_alpha\":{\"value\":0.1},\"line_color\":{\"value\":\"#1f77b4\"},\"size\":{\"units\":\"screen\",\"value\":10},\"x\":{\"field\":\"x\"},\"y\":{\"field\":\"y\"}},\"id\":\"3e59f77f-15ee-4be1-b671-75ba2469fee7\",\"type\":\"Circle\"},{\"attributes\":{\"fill_alpha\":{\"value\":0.5},\"fill_color\":{\"value\":\"grey\"},\"line_alpha\":{\"value\":0.5},\"line_color\":{\"value\":\"grey\"},\"size\":{\"units\":\"screen\",\"value\":10},\"x\":{\"field\":\"x\"},\"y\":{\"field\":\"y\"}},\"id\":\"704f1a37-71a6-4f4e-a660-4c792ce21a2c\",\"type\":\"Circle\"},{\"attributes\":{\"source\":{\"id\":\"201e172f-4070-43c9-83c1-513f21e5d696\",\"type\":\"ColumnDataSource\"}},\"id\":\"187e0f11-f0cd-4cd5-9a72-9b43cfcd2544\",\"type\":\"CDSView\"},{\"attributes\":{},\"id\":\"85bbb144-5ae3-467f-9e99-4b6cdd1ecb0e\",\"type\":\"LinearScale\"},{\"attributes\":{},\"id\":\"2cde8d6c-17dc-4681-98c5-3a4cc0916d97\",\"type\":\"BasicTickFormatter\"},{\"attributes\":{\"fill_alpha\":{\"value\":0.1},\"fill_color\":{\"value\":\"#1f77b4\"},\"line_alpha\":{\"value\":0.1},\"line_color\":{\"value\":\"#1f77b4\"},\"size\":{\"units\":\"screen\",\"value\":10},\"x\":{\"field\":\"x\"},\"y\":{\"field\":\"y\"}},\"id\":\"e321bec0-dbd8-432d-be5e-6d891823a52c\",\"type\":\"Circle\"}],\"root_ids\":[\"c36408f2-fb19-402d-b4b0-5c78b8ebebe7\"]},\"title\":\"Bokeh Application\",\"version\":\"0.12.7\"}};\n",
       "            var render_items = [{\"docid\":\"34231652-a0b3-4f51-b0aa-e789e240cff1\",\"elementid\":\"7e1241d8-f5ae-4098-8760-7751c0e6bff2\",\"modelid\":\"c36408f2-fb19-402d-b4b0-5c78b8ebebe7\",\"notebook_comms_target\":\"0c093b68-960b-4351-ad28-ae20424106b0\"}];\n",
       "            \n",
       "            Bokeh.embed.embed_items(docs_json, render_items);\n",
       "          };\n",
       "          if (document.readyState != \"loading\") fn();\n",
       "          else document.addEventListener(\"DOMContentLoaded\", fn);\n",
       "        })();\n",
       "      },\n",
       "      function(Bokeh) {\n",
       "      }\n",
       "    ];\n",
       "  \n",
       "    function run_inline_js() {\n",
       "      \n",
       "      if ((root.Bokeh !== undefined) || (force === true)) {\n",
       "        for (var i = 0; i < inline_js.length; i++) {\n",
       "          inline_js[i].call(root, root.Bokeh);\n",
       "        }if (force === true) {\n",
       "          display_loaded();\n",
       "        }} else if (Date.now() < root._bokeh_timeout) {\n",
       "        setTimeout(run_inline_js, 100);\n",
       "      } else if (!root._bokeh_failed_load) {\n",
       "        console.log(\"Bokeh: BokehJS failed to load within specified timeout.\");\n",
       "        root._bokeh_failed_load = true;\n",
       "      } else if (force !== true) {\n",
       "        var cell = $(document.getElementById(\"7e1241d8-f5ae-4098-8760-7751c0e6bff2\")).parents('.cell').data().cell;\n",
       "        cell.output_area.append_execute_result(NB_LOAD_WARNING)\n",
       "      }\n",
       "  \n",
       "    }\n",
       "  \n",
       "    if (root._bokeh_is_loading === 0) {\n",
       "      console.log(\"Bokeh: BokehJS loaded, going straight to plotting\");\n",
       "      run_inline_js();\n",
       "    } else {\n",
       "      load_libs(js_urls, function() {\n",
       "        console.log(\"Bokeh: BokehJS plotting callback run at\", now());\n",
       "        run_inline_js();\n",
       "      });\n",
       "    }\n",
       "  }(window));\n",
       "</script>"
      ]
     },
     "metadata": {},
     "output_type": "display_data"
    },
    {
     "data": {
      "application/vnd.jupyter.widget-view+json": {
       "model_id": "19c088543c0548d8b03eff90ab680482"
      }
     },
     "metadata": {},
     "output_type": "display_data"
    }
   ],
   "source": [
    "xAxis = list(data.columns)\n",
    "xAxis.remove('Channel')\n",
    "xAxis.remove('Region')\n",
    "yAxis = xAxis\n",
    "channels = {'Horeca':1, 'Retail':2, 'All':0}\n",
    "regions = {'Lisbon':1, 'Oporto':2, 'Other Regions': 3, 'All':0}\n",
    "channelOptions = list(channels.keys())\n",
    "regionOptions = list(regions.keys())\n",
    "\n",
    "\n",
    "dbscan   = cluster.DBSCAN(eps=.2)\n",
    "birch    = cluster.Birch(n_clusters=2)\n",
    "means    = cluster.MiniBatchKMeans(n_clusters=2)\n",
    "spectral = cluster.SpectralClustering(n_clusters=2, eigen_solver='arpack', affinity=\"nearest_neighbors\")\n",
    "affinity = cluster.AffinityPropagation(damping=.9, preference=-200)\n",
    "algorithms = {'DBSCAN':dbscan, 'Birch': birch, 'K-Means':means, 'Specteral':spectral, 'Affinity Propagation':affinity}\n",
    "algorithmOptions = list(algorithms.keys())\n",
    "\n",
    "algorithm = means\n",
    "clusters = 2\n",
    "selectedData = data;\n",
    "dataset = selectedData.as_matrix(columns=[xAxis[0],yAxis[1]])\n",
    "dataset = StandardScaler().fit_transform(dataset)\n",
    "algorithm.fit(dataset)\n",
    "y_pred = algorithm.predict(dataset)\n",
    "\n",
    "    \n",
    "\n",
    "plot1 = Figure(x_axis_label=xAxis[0], y_axis_label=yAxis[1], plot_width=450, plot_height=450,title='Analysis of different clustering methods')\n",
    "plot2 = Figure(x_axis_label=xAxis[0], y_axis_label=yAxis[1], plot_width=450, plot_height=450,title='Analysis of different clustering methods')\n",
    "\n",
    "clusterPlots1 = []\n",
    "clusterPlots2 = []\n",
    "indicies = numpy.where(y_pred == -1)\n",
    "source =selectedData.iloc[indicies]\n",
    "clusterPlots1.append(plot1.circle(x=source[xAxis[0]],y=source[yAxis[1]],size=10,alpha=.5,color='grey')) \n",
    "clusterPlots2.append(plot2.circle(x=source[xAxis[0]],y=source[yAxis[1]],size=10,alpha=.5,color='grey')) \n",
    "for i in range(0,clusters):\n",
    "    indicies = numpy.where(y_pred == i)\n",
    "    source =selectedData.iloc[indicies]\n",
    "    clusterPlots1.append(plot1.circle(x=source[xAxis[0]], y= source[yAxis[1]],size=10,alpha=.5,color=Accent[3][i]))\n",
    "    clusterPlots2.append(plot2.circle(x=source[xAxis[0]], y= source[yAxis[1]],size=10,alpha=.5,color=Accent[3][i]))\n",
    "\n",
    "\n",
    "graph = show(row(plot1,plot2), notebook_handle=True)\n",
    "\n",
    "def drawGraph(channel, region, xAxis,yAxis,algorithm1,algorithm2):\n",
    "    selectedData = data\n",
    "    if(channels[channel] != 0):\n",
    "        selectedData = data.loc[(data['Channel'] == channels[channel])]\n",
    "    if(regions[region] != 0):\n",
    "        selectedData =  selectedData.loc[data['Region'] == regions[region]]\n",
    "    algorithm1 = algorithms[algorithm1]\n",
    "    algorithm2 = algorithms[algorithm2]\n",
    "    dataset = selectedData.as_matrix(columns=[xAxis,yAxis])\n",
    "    dataset = StandardScaler().fit_transform(dataset)\n",
    "    algorithm1.fit(dataset)\n",
    "    algorithm2.fit(dataset)\n",
    "    y_pred1 = algorithm1.labels_.astype(numpy.int)\n",
    "    y_pred2 = algorithm2.labels_.astype(numpy.int)\n",
    "    for i in range(0,clusters):\n",
    "        indicies = numpy.where(y_pred1 == i)\n",
    "        source =selectedData.iloc[indicies]\n",
    "        clusterPlots1[i+1].data_source.data = {'x':source[xAxis],'y':source[yAxis]}\n",
    "    indicies = numpy.where(y_pred1 == -1)\n",
    "    source =selectedData.iloc[indicies]\n",
    "    clusterPlots1[0].data_source.data = {'x':source[xAxis],'y':source[yAxis]}\n",
    "    \n",
    "    for i in range(0,clusters):\n",
    "        indicies = numpy.where(y_pred2 == i)\n",
    "        source =selectedData.iloc[indicies]\n",
    "        clusterPlots2[i+1].data_source.data = {'x':source[xAxis],'y':source[yAxis]}\n",
    "    indicies = numpy.where(y_pred2 == -1)\n",
    "    source =selectedData.iloc[indicies]\n",
    "    clusterPlots2[0].data_source.data = {'x':source[xAxis],'y':source[yAxis]}\n",
    "\n",
    "    plot1.xaxis.axis_label = xAxis\n",
    "    plot1.yaxis.axis_label = yAxis\n",
    "    plot2.xaxis.axis_label = xAxis\n",
    "    plot2.yaxis.axis_label = yAxis\n",
    "    push_notebook(graph)\n",
    "\n",
    "    \n",
    "channelDropdown = widgets.Dropdown(options=channelOptions,value=channelOptions[2],description='Channel:') \n",
    "regionDropdown = widgets.Dropdown(options=regionOptions,value=regionOptions[3],description='Region:')\n",
    "xAxisDropdown = widgets.Dropdown(options=xAxis,value=xAxis[0],description='X-Axis:')\n",
    "yAxisDropdown = widgets.Dropdown(options=yAxis,value=yAxis[1],description='Y-Axis:')\n",
    "algorithmDropdown1 = widgets.Dropdown(options=algorithmOptions, value=algorithmOptions[2],description='Clustering Algorithm:')\n",
    "algorithmDropdown2 = widgets.Dropdown(options=algorithmOptions, value=algorithmOptions[2],description='Clustering Algorithm:')\n",
    "\n",
    "output = interactive(drawGraph, channel=channelDropdown, region=regionDropdown, xAxis=xAxisDropdown,yAxis=yAxisDropdown, \n",
    "                     algorithm1 = algorithmDropdown1, algorithm2 = algorithmDropdown2)\n",
    "\n",
    "box_layout = Layout(display='flex',\n",
    "                    flex_flow='row',\n",
    "                    justify_content='space-between',\n",
    "                    width='85%')\n",
    "VBox([HBox([output.children[0],output.children[1],output.children[2],output.children[3]]),\n",
    "      Box([output.children[4],output.children[5]],layout=box_layout)])\n",
    "\n",
    "\n",
    "\n"
   ]
  },
  {
   "cell_type": "code",
   "execution_count": null,
   "metadata": {
    "collapsed": true
   },
   "outputs": [],
   "source": []
  },
  {
   "cell_type": "code",
   "execution_count": null,
   "metadata": {
    "collapsed": true
   },
   "outputs": [],
   "source": []
  },
  {
   "cell_type": "code",
   "execution_count": null,
   "metadata": {
    "collapsed": true
   },
   "outputs": [],
   "source": []
  }
 ],
 "metadata": {
  "kernelspec": {
   "display_name": "Python 3",
   "language": "python",
   "name": "python3"
  },
  "language_info": {
   "codemirror_mode": {
    "name": "ipython",
    "version": 3
   },
   "file_extension": ".py",
   "mimetype": "text/x-python",
   "name": "python",
   "nbconvert_exporter": "python",
   "pygments_lexer": "ipython3",
   "version": "3.6.1"
  },
  "widgets": {
   "application/vnd.jupyter.widget-state+json": {
    "state": {
     "063768958903427fa9155f5bd83b1192": {
      "model_module": "jupyter-js-widgets",
      "model_module_version": "~2.1.4",
      "model_name": "LayoutModel",
      "state": {
       "_model_module_version": "~2.1.4",
       "_view_module_version": "~2.1.4"
      }
     },
     "063c38609b4042e78d3443c13068b43e": {
      "model_module": "jupyter-js-widgets",
      "model_module_version": "~2.1.4",
      "model_name": "LayoutModel",
      "state": {
       "_model_module_version": "~2.1.4",
       "_view_module_version": "~2.1.4"
      }
     },
     "07c156f964f2419689d2678fcf0f34e9": {
      "model_module": "jupyter-js-widgets",
      "model_module_version": "~2.1.4",
      "model_name": "LayoutModel",
      "state": {
       "_model_module_version": "~2.1.4",
       "_view_module_version": "~2.1.4"
      }
     },
     "0a436c9470504129a3272bf46242b777": {
      "model_module": "jupyter-js-widgets",
      "model_module_version": "~2.1.4",
      "model_name": "DropdownModel",
      "state": {
       "_model_module_version": "~2.1.4",
       "_options_labels": [
        "Horeca",
        "Retail",
        "All"
       ],
       "_view_module_version": "~2.1.4",
       "description": "Channel:",
       "layout": "IPY_MODEL_07c156f964f2419689d2678fcf0f34e9",
       "value": "Horeca"
      }
     },
     "0c703f0b260e4166a11cf06efa8d00bc": {
      "model_module": "jupyter-js-widgets",
      "model_module_version": "~2.1.4",
      "model_name": "LayoutModel",
      "state": {
       "_model_module_version": "~2.1.4",
       "_view_module_version": "~2.1.4"
      }
     },
     "1cea790af9764572a501d6ca3ed40a61": {
      "model_module": "jupyter-js-widgets",
      "model_module_version": "~2.1.4",
      "model_name": "LayoutModel",
      "state": {
       "_model_module_version": "~2.1.4",
       "_view_module_version": "~2.1.4"
      }
     },
     "348a7c333d9b477b84af738f68890217": {
      "model_module": "jupyter-js-widgets",
      "model_module_version": "~2.1.4",
      "model_name": "VBoxModel",
      "state": {
       "_dom_classes": [
        "widget-interact"
       ],
       "_model_module_version": "~2.1.4",
       "_view_module_version": "~2.1.4",
       "children": [
        "IPY_MODEL_0a436c9470504129a3272bf46242b777",
        "IPY_MODEL_8cfe32e1b7bf47a8ad8b2f1c5ef99e05",
        "IPY_MODEL_f0bcd7e9a5f145d28635a07512b929e4",
        "IPY_MODEL_de135579cd81423895c2dad2fdf7686a",
        "IPY_MODEL_57092d8802184c9e91977bc809594a85"
       ],
       "layout": "IPY_MODEL_d02e3e987b644328a8058dcc49d1eece"
      }
     },
     "36eeffe6db73493c8b5e7b50e249c2ec": {
      "model_module": "jupyter-js-widgets",
      "model_module_version": "~2.1.4",
      "model_name": "OutputModel",
      "state": {
       "_dom_classes": [],
       "_model_module": "jupyter-js-widgets",
       "_model_module_version": "~2.1.4",
       "_view_module": "jupyter-js-widgets",
       "_view_module_version": "~2.1.4",
       "layout": "IPY_MODEL_1cea790af9764572a501d6ca3ed40a61",
       "msg_throttle": 1
      }
     },
     "3f372aee2a32426a9a122a15bd32d8bb": {
      "model_module": "jupyter-js-widgets",
      "model_module_version": "~2.1.4",
      "model_name": "LayoutModel",
      "state": {
       "_model_module_version": "~2.1.4",
       "_view_module_version": "~2.1.4"
      }
     },
     "57092d8802184c9e91977bc809594a85": {
      "model_module": "jupyter-js-widgets",
      "model_module_version": "~2.1.4",
      "model_name": "OutputModel",
      "state": {
       "_dom_classes": [],
       "_model_module": "jupyter-js-widgets",
       "_model_module_version": "~2.1.4",
       "_view_module": "jupyter-js-widgets",
       "_view_module_version": "~2.1.4",
       "layout": "IPY_MODEL_bf61f18ef8474369b11cbe27dac45a78",
       "msg_throttle": 1
      }
     },
     "5c51e32a04b54314a7bd94738d92f084": {
      "model_module": "jupyter-js-widgets",
      "model_module_version": "~2.1.4",
      "model_name": "VBoxModel",
      "state": {
       "_dom_classes": [
        "widget-interact"
       ],
       "_model_module_version": "~2.1.4",
       "_view_module_version": "~2.1.4",
       "children": [
        "IPY_MODEL_e984a93a7e724a0a864d5f9bbac8ba6e",
        "IPY_MODEL_86e8d65d22a64fbfac7c948ce642b832",
        "IPY_MODEL_e193aaa78caf4194996d4aa4892439b4",
        "IPY_MODEL_fe2ef6a9de3a46d0978497ce56902d46",
        "IPY_MODEL_36eeffe6db73493c8b5e7b50e249c2ec"
       ],
       "layout": "IPY_MODEL_063768958903427fa9155f5bd83b1192"
      }
     },
     "6d703b88f79840828c0070d0139a5faa": {
      "model_module": "jupyter-js-widgets",
      "model_module_version": "~2.1.4",
      "model_name": "LayoutModel",
      "state": {
       "_model_module_version": "~2.1.4",
       "_view_module_version": "~2.1.4"
      }
     },
     "7ca5b8e2d2dd4485850d15682efd02e3": {
      "model_module": "jupyter-js-widgets",
      "model_module_version": "~2.1.4",
      "model_name": "LayoutModel",
      "state": {
       "_model_module_version": "~2.1.4",
       "_view_module_version": "~2.1.4"
      }
     },
     "86e8d65d22a64fbfac7c948ce642b832": {
      "model_module": "jupyter-js-widgets",
      "model_module_version": "~2.1.4",
      "model_name": "DropdownModel",
      "state": {
       "_model_module_version": "~2.1.4",
       "_options_labels": [
        "Lisbon",
        "Oporto",
        "Other Regions",
        "All"
       ],
       "_view_module_version": "~2.1.4",
       "description": "Region:",
       "layout": "IPY_MODEL_ecfc8cf983c54287b2a3a6c5cb1e4355",
       "value": "Lisbon"
      }
     },
     "8cfe32e1b7bf47a8ad8b2f1c5ef99e05": {
      "model_module": "jupyter-js-widgets",
      "model_module_version": "~2.1.4",
      "model_name": "DropdownModel",
      "state": {
       "_model_module_version": "~2.1.4",
       "_options_labels": [
        "Lisbon",
        "Oporto",
        "Other Regions",
        "All"
       ],
       "_view_module_version": "~2.1.4",
       "description": "Region:",
       "layout": "IPY_MODEL_7ca5b8e2d2dd4485850d15682efd02e3",
       "value": "Lisbon"
      }
     },
     "ae0d5534c2904cc8ab7bc57c4eac1ef2": {
      "model_module": "jupyter-js-widgets",
      "model_module_version": "~2.1.4",
      "model_name": "LayoutModel",
      "state": {
       "_model_module_version": "~2.1.4",
       "_view_module_version": "~2.1.4"
      }
     },
     "bf61f18ef8474369b11cbe27dac45a78": {
      "model_module": "jupyter-js-widgets",
      "model_module_version": "~2.1.4",
      "model_name": "LayoutModel",
      "state": {
       "_model_module_version": "~2.1.4",
       "_view_module_version": "~2.1.4"
      }
     },
     "d02e3e987b644328a8058dcc49d1eece": {
      "model_module": "jupyter-js-widgets",
      "model_module_version": "~2.1.4",
      "model_name": "LayoutModel",
      "state": {
       "_model_module_version": "~2.1.4",
       "_view_module_version": "~2.1.4"
      }
     },
     "de135579cd81423895c2dad2fdf7686a": {
      "model_module": "jupyter-js-widgets",
      "model_module_version": "~2.1.4",
      "model_name": "DropdownModel",
      "state": {
       "_model_module_version": "~2.1.4",
       "_options_labels": [
        "Fresh",
        "Milk",
        "Grocery",
        "Frozen",
        "Detergents_Paper",
        "Delicassen"
       ],
       "_view_module_version": "~2.1.4",
       "description": "Y-Axis:",
       "layout": "IPY_MODEL_ae0d5534c2904cc8ab7bc57c4eac1ef2",
       "value": "Milk"
      }
     },
     "e193aaa78caf4194996d4aa4892439b4": {
      "model_module": "jupyter-js-widgets",
      "model_module_version": "~2.1.4",
      "model_name": "DropdownModel",
      "state": {
       "_model_module_version": "~2.1.4",
       "_options_labels": [
        "Fresh",
        "Milk",
        "Grocery",
        "Frozen",
        "Detergents_Paper",
        "Delicassen"
       ],
       "_view_module_version": "~2.1.4",
       "description": "X-Axis:",
       "layout": "IPY_MODEL_0c703f0b260e4166a11cf06efa8d00bc",
       "value": "Fresh"
      }
     },
     "e984a93a7e724a0a864d5f9bbac8ba6e": {
      "model_module": "jupyter-js-widgets",
      "model_module_version": "~2.1.4",
      "model_name": "DropdownModel",
      "state": {
       "_model_module_version": "~2.1.4",
       "_options_labels": [
        "Horeca",
        "Retail",
        "All"
       ],
       "_view_module_version": "~2.1.4",
       "description": "Channel:",
       "layout": "IPY_MODEL_063c38609b4042e78d3443c13068b43e",
       "value": "Horeca"
      }
     },
     "ecfc8cf983c54287b2a3a6c5cb1e4355": {
      "model_module": "jupyter-js-widgets",
      "model_module_version": "~2.1.4",
      "model_name": "LayoutModel",
      "state": {
       "_model_module_version": "~2.1.4",
       "_view_module_version": "~2.1.4"
      }
     },
     "f0bcd7e9a5f145d28635a07512b929e4": {
      "model_module": "jupyter-js-widgets",
      "model_module_version": "~2.1.4",
      "model_name": "DropdownModel",
      "state": {
       "_model_module_version": "~2.1.4",
       "_options_labels": [
        "Fresh",
        "Milk",
        "Grocery",
        "Frozen",
        "Detergents_Paper",
        "Delicassen"
       ],
       "_view_module_version": "~2.1.4",
       "description": "X-Axis:",
       "layout": "IPY_MODEL_6d703b88f79840828c0070d0139a5faa",
       "value": "Fresh"
      }
     },
     "fe2ef6a9de3a46d0978497ce56902d46": {
      "model_module": "jupyter-js-widgets",
      "model_module_version": "~2.1.4",
      "model_name": "DropdownModel",
      "state": {
       "_model_module_version": "~2.1.4",
       "_options_labels": [
        "Fresh",
        "Milk",
        "Grocery",
        "Frozen",
        "Detergents_Paper",
        "Delicassen"
       ],
       "_view_module_version": "~2.1.4",
       "description": "Y-Axis:",
       "layout": "IPY_MODEL_3f372aee2a32426a9a122a15bd32d8bb",
       "value": "Milk"
      }
     }
    },
    "version_major": 1,
    "version_minor": 0
   }
  }
 },
 "nbformat": 4,
 "nbformat_minor": 2
}
