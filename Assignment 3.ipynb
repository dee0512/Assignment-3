{
 "cells": [
  {
   "cell_type": "markdown",
   "metadata": {},
   "source": [
    "# Assignment 3\n",
    "This is an assignment for COMPSCI 690V Visual analytics. The dataset used in this assignment is from UCI machine learning repository (http://archive.ics.uci.edu/ml/datasets/Wholesale+customers). In this assignment, I will go through various methods of clustering the data."
   ]
  },
  {
   "cell_type": "code",
   "execution_count": 131,
   "metadata": {},
   "outputs": [
    {
     "data": {
      "text/html": [
       "\n",
       "    <div class=\"bk-root\">\n",
       "        <a href=\"https://bokeh.pydata.org\" target=\"_blank\" class=\"bk-logo bk-logo-small bk-logo-notebook\"></a>\n",
       "        <span id=\"972d2a10-17a1-4c92-8162-2e7009d72022\">Loading BokehJS ...</span>\n",
       "    </div>"
      ]
     },
     "metadata": {},
     "output_type": "display_data"
    },
    {
     "data": {
      "application/javascript": [
       "\n",
       "(function(root) {\n",
       "  function now() {\n",
       "    return new Date();\n",
       "  }\n",
       "\n",
       "  var force = true;\n",
       "\n",
       "  if (typeof (root._bokeh_onload_callbacks) === \"undefined\" || force === true) {\n",
       "    root._bokeh_onload_callbacks = [];\n",
       "    root._bokeh_is_loading = undefined;\n",
       "  }\n",
       "\n",
       "\n",
       "  \n",
       "  if (typeof (root._bokeh_timeout) === \"undefined\" || force === true) {\n",
       "    root._bokeh_timeout = Date.now() + 5000;\n",
       "    root._bokeh_failed_load = false;\n",
       "  }\n",
       "\n",
       "  var NB_LOAD_WARNING = {'data': {'text/html':\n",
       "     \"<div style='background-color: #fdd'>\\n\"+\n",
       "     \"<p>\\n\"+\n",
       "     \"BokehJS does not appear to have successfully loaded. If loading BokehJS from CDN, this \\n\"+\n",
       "     \"may be due to a slow or bad network connection. Possible fixes:\\n\"+\n",
       "     \"</p>\\n\"+\n",
       "     \"<ul>\\n\"+\n",
       "     \"<li>re-rerun `output_notebook()` to attempt to load from CDN again, or</li>\\n\"+\n",
       "     \"<li>use INLINE resources instead, as so:</li>\\n\"+\n",
       "     \"</ul>\\n\"+\n",
       "     \"<code>\\n\"+\n",
       "     \"from bokeh.resources import INLINE\\n\"+\n",
       "     \"output_notebook(resources=INLINE)\\n\"+\n",
       "     \"</code>\\n\"+\n",
       "     \"</div>\"}};\n",
       "\n",
       "  function display_loaded() {\n",
       "    if (root.Bokeh !== undefined) {\n",
       "      var el = document.getElementById(\"972d2a10-17a1-4c92-8162-2e7009d72022\");\n",
       "      if (el != null) {\n",
       "        el.textContent = \"BokehJS \" + Bokeh.version + \" successfully loaded.\";\n",
       "      }\n",
       "    } else if (Date.now() < root._bokeh_timeout) {\n",
       "      setTimeout(display_loaded, 100)\n",
       "    }\n",
       "  }\n",
       "\n",
       "\n",
       "  function run_callbacks() {\n",
       "    try {\n",
       "      root._bokeh_onload_callbacks.forEach(function(callback) { callback() });\n",
       "    }\n",
       "    finally {\n",
       "      delete root._bokeh_onload_callbacks\n",
       "    }\n",
       "    console.info(\"Bokeh: all callbacks have finished\");\n",
       "  }\n",
       "\n",
       "  function load_libs(js_urls, callback) {\n",
       "    root._bokeh_onload_callbacks.push(callback);\n",
       "    if (root._bokeh_is_loading > 0) {\n",
       "      console.log(\"Bokeh: BokehJS is being loaded, scheduling callback at\", now());\n",
       "      return null;\n",
       "    }\n",
       "    if (js_urls == null || js_urls.length === 0) {\n",
       "      run_callbacks();\n",
       "      return null;\n",
       "    }\n",
       "    console.log(\"Bokeh: BokehJS not loaded, scheduling load and callback at\", now());\n",
       "    root._bokeh_is_loading = js_urls.length;\n",
       "    for (var i = 0; i < js_urls.length; i++) {\n",
       "      var url = js_urls[i];\n",
       "      var s = document.createElement('script');\n",
       "      s.src = url;\n",
       "      s.async = false;\n",
       "      s.onreadystatechange = s.onload = function() {\n",
       "        root._bokeh_is_loading--;\n",
       "        if (root._bokeh_is_loading === 0) {\n",
       "          console.log(\"Bokeh: all BokehJS libraries loaded\");\n",
       "          run_callbacks()\n",
       "        }\n",
       "      };\n",
       "      s.onerror = function() {\n",
       "        console.warn(\"failed to load library \" + url);\n",
       "      };\n",
       "      console.log(\"Bokeh: injecting script tag for BokehJS library: \", url);\n",
       "      document.getElementsByTagName(\"head\")[0].appendChild(s);\n",
       "    }\n",
       "  };var element = document.getElementById(\"972d2a10-17a1-4c92-8162-2e7009d72022\");\n",
       "  if (element == null) {\n",
       "    console.log(\"Bokeh: ERROR: autoload.js configured with elementid '972d2a10-17a1-4c92-8162-2e7009d72022' but no matching script tag was found. \")\n",
       "    return false;\n",
       "  }\n",
       "\n",
       "  var js_urls = [\"https://cdn.pydata.org/bokeh/release/bokeh-0.12.7.min.js\", \"https://cdn.pydata.org/bokeh/release/bokeh-widgets-0.12.7.min.js\", \"https://cdn.pydata.org/bokeh/release/bokeh-tables-0.12.7.min.js\", \"https://cdn.pydata.org/bokeh/release/bokeh-gl-0.12.7.min.js\"];\n",
       "\n",
       "  var inline_js = [\n",
       "    function(Bokeh) {\n",
       "      Bokeh.set_log_level(\"info\");\n",
       "    },\n",
       "    \n",
       "    function(Bokeh) {\n",
       "      \n",
       "    },\n",
       "    \n",
       "    function(Bokeh) {\n",
       "      \n",
       "      document.getElementById(\"972d2a10-17a1-4c92-8162-2e7009d72022\").textContent = \"BokehJS is loading...\";\n",
       "    },\n",
       "    function(Bokeh) {\n",
       "      console.log(\"Bokeh: injecting CSS: https://cdn.pydata.org/bokeh/release/bokeh-0.12.7.min.css\");\n",
       "      Bokeh.embed.inject_css(\"https://cdn.pydata.org/bokeh/release/bokeh-0.12.7.min.css\");\n",
       "      console.log(\"Bokeh: injecting CSS: https://cdn.pydata.org/bokeh/release/bokeh-widgets-0.12.7.min.css\");\n",
       "      Bokeh.embed.inject_css(\"https://cdn.pydata.org/bokeh/release/bokeh-widgets-0.12.7.min.css\");\n",
       "      console.log(\"Bokeh: injecting CSS: https://cdn.pydata.org/bokeh/release/bokeh-tables-0.12.7.min.css\");\n",
       "      Bokeh.embed.inject_css(\"https://cdn.pydata.org/bokeh/release/bokeh-tables-0.12.7.min.css\");\n",
       "    }\n",
       "  ];\n",
       "\n",
       "  function run_inline_js() {\n",
       "    \n",
       "    if ((root.Bokeh !== undefined) || (force === true)) {\n",
       "      for (var i = 0; i < inline_js.length; i++) {\n",
       "        inline_js[i].call(root, root.Bokeh);\n",
       "      }if (force === true) {\n",
       "        display_loaded();\n",
       "      }} else if (Date.now() < root._bokeh_timeout) {\n",
       "      setTimeout(run_inline_js, 100);\n",
       "    } else if (!root._bokeh_failed_load) {\n",
       "      console.log(\"Bokeh: BokehJS failed to load within specified timeout.\");\n",
       "      root._bokeh_failed_load = true;\n",
       "    } else if (force !== true) {\n",
       "      var cell = $(document.getElementById(\"972d2a10-17a1-4c92-8162-2e7009d72022\")).parents('.cell').data().cell;\n",
       "      cell.output_area.append_execute_result(NB_LOAD_WARNING)\n",
       "    }\n",
       "\n",
       "  }\n",
       "\n",
       "  if (root._bokeh_is_loading === 0) {\n",
       "    console.log(\"Bokeh: BokehJS loaded, going straight to plotting\");\n",
       "    run_inline_js();\n",
       "  } else {\n",
       "    load_libs(js_urls, function() {\n",
       "      console.log(\"Bokeh: BokehJS plotting callback run at\", now());\n",
       "      run_inline_js();\n",
       "    });\n",
       "  }\n",
       "}(window));"
      ]
     },
     "metadata": {},
     "output_type": "display_data"
    },
    {
     "data": {
      "text/html": [
       "<div>\n",
       "<style>\n",
       "    .dataframe thead tr:only-child th {\n",
       "        text-align: right;\n",
       "    }\n",
       "\n",
       "    .dataframe thead th {\n",
       "        text-align: left;\n",
       "    }\n",
       "\n",
       "    .dataframe tbody tr th {\n",
       "        vertical-align: top;\n",
       "    }\n",
       "</style>\n",
       "<table border=\"1\" class=\"dataframe\">\n",
       "  <thead>\n",
       "    <tr style=\"text-align: right;\">\n",
       "      <th></th>\n",
       "      <th>Channel</th>\n",
       "      <th>Region</th>\n",
       "      <th>Fresh</th>\n",
       "      <th>Milk</th>\n",
       "      <th>Grocery</th>\n",
       "      <th>Frozen</th>\n",
       "      <th>Detergents_Paper</th>\n",
       "      <th>Delicassen</th>\n",
       "    </tr>\n",
       "  </thead>\n",
       "  <tbody>\n",
       "    <tr>\n",
       "      <th>0</th>\n",
       "      <td>2</td>\n",
       "      <td>3</td>\n",
       "      <td>12669</td>\n",
       "      <td>9656</td>\n",
       "      <td>7561</td>\n",
       "      <td>214</td>\n",
       "      <td>2674</td>\n",
       "      <td>1338</td>\n",
       "    </tr>\n",
       "    <tr>\n",
       "      <th>1</th>\n",
       "      <td>2</td>\n",
       "      <td>3</td>\n",
       "      <td>7057</td>\n",
       "      <td>9810</td>\n",
       "      <td>9568</td>\n",
       "      <td>1762</td>\n",
       "      <td>3293</td>\n",
       "      <td>1776</td>\n",
       "    </tr>\n",
       "    <tr>\n",
       "      <th>2</th>\n",
       "      <td>2</td>\n",
       "      <td>3</td>\n",
       "      <td>6353</td>\n",
       "      <td>8808</td>\n",
       "      <td>7684</td>\n",
       "      <td>2405</td>\n",
       "      <td>3516</td>\n",
       "      <td>7844</td>\n",
       "    </tr>\n",
       "    <tr>\n",
       "      <th>3</th>\n",
       "      <td>1</td>\n",
       "      <td>3</td>\n",
       "      <td>13265</td>\n",
       "      <td>1196</td>\n",
       "      <td>4221</td>\n",
       "      <td>6404</td>\n",
       "      <td>507</td>\n",
       "      <td>1788</td>\n",
       "    </tr>\n",
       "    <tr>\n",
       "      <th>4</th>\n",
       "      <td>2</td>\n",
       "      <td>3</td>\n",
       "      <td>22615</td>\n",
       "      <td>5410</td>\n",
       "      <td>7198</td>\n",
       "      <td>3915</td>\n",
       "      <td>1777</td>\n",
       "      <td>5185</td>\n",
       "    </tr>\n",
       "  </tbody>\n",
       "</table>\n",
       "</div>"
      ],
      "text/plain": [
       "   Channel  Region  Fresh  Milk  Grocery  Frozen  Detergents_Paper  Delicassen\n",
       "0        2       3  12669  9656     7561     214              2674        1338\n",
       "1        2       3   7057  9810     9568    1762              3293        1776\n",
       "2        2       3   6353  8808     7684    2405              3516        7844\n",
       "3        1       3  13265  1196     4221    6404               507        1788\n",
       "4        2       3  22615  5410     7198    3915              1777        5185"
      ]
     },
     "execution_count": 131,
     "metadata": {},
     "output_type": "execute_result"
    }
   ],
   "source": [
    "import pandas\n",
    "from bokeh.layouts import widgetbox,row, Column\n",
    "from bokeh.models.widgets import Select\n",
    "from bokeh.models import ColumnDataSource\n",
    "from bokeh.plotting import output_notebook, show, Figure\n",
    "from bokeh.io import push_notebook\n",
    "from bokeh.palettes import Accent\n",
    "from ipywidgets import interactive, Box, Layout,HBox, VBox\n",
    "from IPython.display import display\n",
    "import ipywidgets as widgets\n",
    "from sklearn import cluster\n",
    "from sklearn.preprocessing import StandardScaler\n",
    "import numpy\n",
    "import warnings\n",
    "warnings.filterwarnings('ignore')\n",
    "\n",
    "\n",
    "\n",
    "output_notebook()\n",
    "data = pandas.read_csv('Wholesale customers data.csv')\n",
    "data.head()"
   ]
  },
  {
   "cell_type": "code",
   "execution_count": 133,
   "metadata": {},
   "outputs": [
    {
     "data": {
      "text/html": [
       "\n",
       "\n",
       "    <div class=\"bk-root\">\n",
       "        <div class=\"bk-plotdiv\" id=\"3e515386-69ac-49b4-bb77-57f29aab7f20\"></div>\n",
       "    </div>\n",
       "<script type=\"text/javascript\">\n",
       "  \n",
       "  (function(root) {\n",
       "    function now() {\n",
       "      return new Date();\n",
       "    }\n",
       "  \n",
       "    var force = false;\n",
       "  \n",
       "    if (typeof (root._bokeh_onload_callbacks) === \"undefined\" || force === true) {\n",
       "      root._bokeh_onload_callbacks = [];\n",
       "      root._bokeh_is_loading = undefined;\n",
       "    }\n",
       "  \n",
       "  \n",
       "    \n",
       "    if (typeof (root._bokeh_timeout) === \"undefined\" || force === true) {\n",
       "      root._bokeh_timeout = Date.now() + 0;\n",
       "      root._bokeh_failed_load = false;\n",
       "    }\n",
       "  \n",
       "    var NB_LOAD_WARNING = {'data': {'text/html':\n",
       "       \"<div style='background-color: #fdd'>\\n\"+\n",
       "       \"<p>\\n\"+\n",
       "       \"BokehJS does not appear to have successfully loaded. If loading BokehJS from CDN, this \\n\"+\n",
       "       \"may be due to a slow or bad network connection. Possible fixes:\\n\"+\n",
       "       \"</p>\\n\"+\n",
       "       \"<ul>\\n\"+\n",
       "       \"<li>re-rerun `output_notebook()` to attempt to load from CDN again, or</li>\\n\"+\n",
       "       \"<li>use INLINE resources instead, as so:</li>\\n\"+\n",
       "       \"</ul>\\n\"+\n",
       "       \"<code>\\n\"+\n",
       "       \"from bokeh.resources import INLINE\\n\"+\n",
       "       \"output_notebook(resources=INLINE)\\n\"+\n",
       "       \"</code>\\n\"+\n",
       "       \"</div>\"}};\n",
       "  \n",
       "    function display_loaded() {\n",
       "      if (root.Bokeh !== undefined) {\n",
       "        var el = document.getElementById(\"3e515386-69ac-49b4-bb77-57f29aab7f20\");\n",
       "        if (el != null) {\n",
       "          el.textContent = \"BokehJS \" + Bokeh.version + \" successfully loaded.\";\n",
       "        }\n",
       "      } else if (Date.now() < root._bokeh_timeout) {\n",
       "        setTimeout(display_loaded, 100)\n",
       "      }\n",
       "    }\n",
       "  \n",
       "  \n",
       "    function run_callbacks() {\n",
       "      try {\n",
       "        root._bokeh_onload_callbacks.forEach(function(callback) { callback() });\n",
       "      }\n",
       "      finally {\n",
       "        delete root._bokeh_onload_callbacks\n",
       "      }\n",
       "      console.info(\"Bokeh: all callbacks have finished\");\n",
       "    }\n",
       "  \n",
       "    function load_libs(js_urls, callback) {\n",
       "      root._bokeh_onload_callbacks.push(callback);\n",
       "      if (root._bokeh_is_loading > 0) {\n",
       "        console.log(\"Bokeh: BokehJS is being loaded, scheduling callback at\", now());\n",
       "        return null;\n",
       "      }\n",
       "      if (js_urls == null || js_urls.length === 0) {\n",
       "        run_callbacks();\n",
       "        return null;\n",
       "      }\n",
       "      console.log(\"Bokeh: BokehJS not loaded, scheduling load and callback at\", now());\n",
       "      root._bokeh_is_loading = js_urls.length;\n",
       "      for (var i = 0; i < js_urls.length; i++) {\n",
       "        var url = js_urls[i];\n",
       "        var s = document.createElement('script');\n",
       "        s.src = url;\n",
       "        s.async = false;\n",
       "        s.onreadystatechange = s.onload = function() {\n",
       "          root._bokeh_is_loading--;\n",
       "          if (root._bokeh_is_loading === 0) {\n",
       "            console.log(\"Bokeh: all BokehJS libraries loaded\");\n",
       "            run_callbacks()\n",
       "          }\n",
       "        };\n",
       "        s.onerror = function() {\n",
       "          console.warn(\"failed to load library \" + url);\n",
       "        };\n",
       "        console.log(\"Bokeh: injecting script tag for BokehJS library: \", url);\n",
       "        document.getElementsByTagName(\"head\")[0].appendChild(s);\n",
       "      }\n",
       "    };var element = document.getElementById(\"3e515386-69ac-49b4-bb77-57f29aab7f20\");\n",
       "    if (element == null) {\n",
       "      console.log(\"Bokeh: ERROR: autoload.js configured with elementid '3e515386-69ac-49b4-bb77-57f29aab7f20' but no matching script tag was found. \")\n",
       "      return false;\n",
       "    }\n",
       "  \n",
       "    var js_urls = [];\n",
       "  \n",
       "    var inline_js = [\n",
       "      function(Bokeh) {\n",
       "        (function() {\n",
       "          var fn = function() {\n",
       "            var docs_json = {\"ecaa7210-1f81-4857-ad87-46d1d322c103\":{\"roots\":{\"references\":[{\"attributes\":{},\"id\":\"b7b19a98-eb74-42d8-83d4-b926fd64eba6\",\"type\":\"LinearScale\"},{\"attributes\":{\"active_drag\":\"auto\",\"active_inspect\":\"auto\",\"active_scroll\":\"auto\",\"active_tap\":\"auto\",\"tools\":[{\"id\":\"db4a3640-00bd-44d5-a0c2-701d69f4390b\",\"type\":\"PanTool\"},{\"id\":\"bb318d06-65da-401d-a697-a7520e99ae87\",\"type\":\"WheelZoomTool\"},{\"id\":\"f82a70f7-3f20-4f72-8b94-952facac8a00\",\"type\":\"BoxZoomTool\"},{\"id\":\"f89b0b4f-c857-484f-893f-cd7286f9b25c\",\"type\":\"SaveTool\"},{\"id\":\"25a9aba4-6e10-4110-a92b-c09ce1d087ed\",\"type\":\"ResetTool\"},{\"id\":\"3a4c90f7-104e-4673-b66c-072aa62950de\",\"type\":\"HelpTool\"}]},\"id\":\"acd4753b-7fb1-48f8-9918-469e58099d62\",\"type\":\"Toolbar\"},{\"attributes\":{\"bottom_units\":\"screen\",\"fill_alpha\":{\"value\":0.5},\"fill_color\":{\"value\":\"lightgrey\"},\"left_units\":\"screen\",\"level\":\"overlay\",\"line_alpha\":{\"value\":1.0},\"line_color\":{\"value\":\"black\"},\"line_dash\":[4,4],\"line_width\":{\"value\":2},\"plot\":null,\"render_mode\":\"css\",\"right_units\":\"screen\",\"top_units\":\"screen\"},\"id\":\"ef8bb9d2-c341-419e-90b4-718be174ded3\",\"type\":\"BoxAnnotation\"},{\"attributes\":{},\"id\":\"79c8c261-5e72-4c24-9000-23b38edff333\",\"type\":\"BasicTicker\"},{\"attributes\":{},\"id\":\"8ec881b7-f234-4624-81a8-1b4a262f5c43\",\"type\":\"WheelZoomTool\"},{\"attributes\":{\"below\":[{\"id\":\"d644fcd9-470d-4448-b6a4-02d9e3ecd514\",\"type\":\"LinearAxis\"}],\"left\":[{\"id\":\"c3a42d4f-2792-4fcc-8e33-86b2883f6935\",\"type\":\"LinearAxis\"}],\"plot_height\":450,\"plot_width\":450,\"renderers\":[{\"id\":\"d644fcd9-470d-4448-b6a4-02d9e3ecd514\",\"type\":\"LinearAxis\"},{\"id\":\"8274eb57-d67e-4050-8bb2-201ad27b77cf\",\"type\":\"Grid\"},{\"id\":\"c3a42d4f-2792-4fcc-8e33-86b2883f6935\",\"type\":\"LinearAxis\"},{\"id\":\"30be380f-2499-4b6c-91b3-3f5babdabc38\",\"type\":\"Grid\"},{\"id\":\"ef8bb9d2-c341-419e-90b4-718be174ded3\",\"type\":\"BoxAnnotation\"},{\"id\":\"d27023d9-2eb6-4acc-bc19-d5b8565a51c5\",\"type\":\"GlyphRenderer\"},{\"id\":\"cf5e4151-bc41-4eec-b48e-49b40031cace\",\"type\":\"GlyphRenderer\"},{\"id\":\"386bf080-a463-435b-9eac-4f7c58a8eae6\",\"type\":\"GlyphRenderer\"}],\"title\":{\"id\":\"d281d970-0fd3-4b04-91d7-0ffe2445ffa5\",\"type\":\"Title\"},\"toolbar\":{\"id\":\"c71b65ac-c997-4474-a3d8-1b630d468a34\",\"type\":\"Toolbar\"},\"x_range\":{\"id\":\"1d57ad80-4b39-4e22-ba4c-2d77a5a1a2aa\",\"type\":\"DataRange1d\"},\"x_scale\":{\"id\":\"b7b19a98-eb74-42d8-83d4-b926fd64eba6\",\"type\":\"LinearScale\"},\"y_range\":{\"id\":\"35a02035-2786-4872-ae41-3a1d9b6846b3\",\"type\":\"DataRange1d\"},\"y_scale\":{\"id\":\"6cc6e7b7-0bcd-4654-ac09-274182dfc18c\",\"type\":\"LinearScale\"}},\"id\":\"3830849a-1ed7-4e6d-8d75-63c4cbe0175e\",\"subtype\":\"Figure\",\"type\":\"Plot\"},{\"attributes\":{\"callback\":null},\"id\":\"104f8251-ecab-4145-9c13-8155a84de88c\",\"type\":\"DataRange1d\"},{\"attributes\":{\"callback\":null},\"id\":\"d3cb408e-63f6-4bb9-b486-4694a87294a0\",\"type\":\"DataRange1d\"},{\"attributes\":{\"callback\":null},\"id\":\"35a02035-2786-4872-ae41-3a1d9b6846b3\",\"type\":\"DataRange1d\"},{\"attributes\":{\"fill_alpha\":{\"value\":0.1},\"fill_color\":{\"value\":\"#1f77b4\"},\"line_alpha\":{\"value\":0.1},\"line_color\":{\"value\":\"#1f77b4\"},\"size\":{\"units\":\"screen\",\"value\":10},\"x\":{\"field\":\"x\"},\"y\":{\"field\":\"y\"}},\"id\":\"d3d9b817-afe6-4055-88cd-e69f4c05c713\",\"type\":\"Circle\"},{\"attributes\":{\"axis_label\":\"Fresh\",\"formatter\":{\"id\":\"6de2fa9f-ef2f-4e3d-acc3-97a8621c80e4\",\"type\":\"BasicTickFormatter\"},\"plot\":{\"id\":\"3830849a-1ed7-4e6d-8d75-63c4cbe0175e\",\"subtype\":\"Figure\",\"type\":\"Plot\"},\"ticker\":{\"id\":\"6c146b9d-3d87-42a7-969a-0a082203a138\",\"type\":\"BasicTicker\"}},\"id\":\"d644fcd9-470d-4448-b6a4-02d9e3ecd514\",\"type\":\"LinearAxis\"},{\"attributes\":{\"axis_label\":\"Fresh\",\"formatter\":{\"id\":\"72ba1894-838d-4f20-a07e-443158e511cb\",\"type\":\"BasicTickFormatter\"},\"plot\":{\"id\":\"88fbab03-b9db-4a8a-a20d-b3ef62111aab\",\"subtype\":\"Figure\",\"type\":\"Plot\"},\"ticker\":{\"id\":\"79c8c261-5e72-4c24-9000-23b38edff333\",\"type\":\"BasicTicker\"}},\"id\":\"0b7889b5-c48c-4a00-a5ce-580948a041cc\",\"type\":\"LinearAxis\"},{\"attributes\":{},\"id\":\"6c146b9d-3d87-42a7-969a-0a082203a138\",\"type\":\"BasicTicker\"},{\"attributes\":{},\"id\":\"6cc6e7b7-0bcd-4654-ac09-274182dfc18c\",\"type\":\"LinearScale\"},{\"attributes\":{},\"id\":\"a54f5128-ec7d-4e6f-a649-c188c7ed28cf\",\"type\":\"SaveTool\"},{\"attributes\":{\"plot\":null,\"text\":\"Analysis of different clustering methods\"},\"id\":\"d281d970-0fd3-4b04-91d7-0ffe2445ffa5\",\"type\":\"Title\"},{\"attributes\":{\"plot\":null,\"text\":\"Analysis of different clustering methods\"},\"id\":\"74b8bcc4-14f5-4c00-8b47-8eb00e463880\",\"type\":\"Title\"},{\"attributes\":{\"callback\":null},\"id\":\"1d57ad80-4b39-4e22-ba4c-2d77a5a1a2aa\",\"type\":\"DataRange1d\"},{\"attributes\":{},\"id\":\"7c33a6cf-68c7-4e15-82cc-b61740f4f39d\",\"type\":\"HelpTool\"},{\"attributes\":{\"plot\":{\"id\":\"88fbab03-b9db-4a8a-a20d-b3ef62111aab\",\"subtype\":\"Figure\",\"type\":\"Plot\"},\"ticker\":{\"id\":\"79c8c261-5e72-4c24-9000-23b38edff333\",\"type\":\"BasicTicker\"}},\"id\":\"64cce3a6-bc7a-4f2d-93cc-d8b3192fe1a9\",\"type\":\"Grid\"},{\"attributes\":{\"below\":[{\"id\":\"0b7889b5-c48c-4a00-a5ce-580948a041cc\",\"type\":\"LinearAxis\"}],\"left\":[{\"id\":\"71163212-a91d-4b48-b453-cc3effdd2721\",\"type\":\"LinearAxis\"}],\"plot_height\":450,\"plot_width\":450,\"renderers\":[{\"id\":\"0b7889b5-c48c-4a00-a5ce-580948a041cc\",\"type\":\"LinearAxis\"},{\"id\":\"64cce3a6-bc7a-4f2d-93cc-d8b3192fe1a9\",\"type\":\"Grid\"},{\"id\":\"71163212-a91d-4b48-b453-cc3effdd2721\",\"type\":\"LinearAxis\"},{\"id\":\"8c0939f9-f71c-4347-a35b-3fa6ebd4ef0b\",\"type\":\"Grid\"},{\"id\":\"1e628e4f-07be-4073-bf2e-4f9b4abd90c3\",\"type\":\"BoxAnnotation\"},{\"id\":\"89428774-2c11-4212-b8e8-a6c748147138\",\"type\":\"GlyphRenderer\"},{\"id\":\"bfafe7ab-3452-4063-bd36-066977e928ca\",\"type\":\"GlyphRenderer\"},{\"id\":\"527625f3-01f3-4ae9-b663-ea79ebb84999\",\"type\":\"GlyphRenderer\"}],\"title\":{\"id\":\"74b8bcc4-14f5-4c00-8b47-8eb00e463880\",\"type\":\"Title\"},\"toolbar\":{\"id\":\"acd4753b-7fb1-48f8-9918-469e58099d62\",\"type\":\"Toolbar\"},\"x_range\":{\"id\":\"104f8251-ecab-4145-9c13-8155a84de88c\",\"type\":\"DataRange1d\"},\"x_scale\":{\"id\":\"c6cbac19-e34e-4a03-8d43-d62a5d241203\",\"type\":\"LinearScale\"},\"y_range\":{\"id\":\"d3cb408e-63f6-4bb9-b486-4694a87294a0\",\"type\":\"DataRange1d\"},\"y_scale\":{\"id\":\"9e9c7fed-673e-43d2-9daa-9ee7d5370350\",\"type\":\"LinearScale\"}},\"id\":\"88fbab03-b9db-4a8a-a20d-b3ef62111aab\",\"subtype\":\"Figure\",\"type\":\"Plot\"},{\"attributes\":{\"axis_label\":\"Milk\",\"formatter\":{\"id\":\"22c21eb6-f286-43ba-81ec-fc831aa48124\",\"type\":\"BasicTickFormatter\"},\"plot\":{\"id\":\"3830849a-1ed7-4e6d-8d75-63c4cbe0175e\",\"subtype\":\"Figure\",\"type\":\"Plot\"},\"ticker\":{\"id\":\"33dcb037-4cec-40e0-a933-e3916017a06a\",\"type\":\"BasicTicker\"}},\"id\":\"c3a42d4f-2792-4fcc-8e33-86b2883f6935\",\"type\":\"LinearAxis\"},{\"attributes\":{},\"id\":\"33dcb037-4cec-40e0-a933-e3916017a06a\",\"type\":\"BasicTicker\"},{\"attributes\":{\"plot\":{\"id\":\"3830849a-1ed7-4e6d-8d75-63c4cbe0175e\",\"subtype\":\"Figure\",\"type\":\"Plot\"},\"ticker\":{\"id\":\"6c146b9d-3d87-42a7-969a-0a082203a138\",\"type\":\"BasicTicker\"}},\"id\":\"8274eb57-d67e-4050-8bb2-201ad27b77cf\",\"type\":\"Grid\"},{\"attributes\":{},\"id\":\"7e81d650-b6a5-4fe1-ba2b-1281613bc1dd\",\"type\":\"ResetTool\"},{\"attributes\":{},\"id\":\"9e9c7fed-673e-43d2-9daa-9ee7d5370350\",\"type\":\"LinearScale\"},{\"attributes\":{\"overlay\":{\"id\":\"ef8bb9d2-c341-419e-90b4-718be174ded3\",\"type\":\"BoxAnnotation\"}},\"id\":\"eb4e0498-97d5-4b4e-b8de-8312d866e021\",\"type\":\"BoxZoomTool\"},{\"attributes\":{},\"id\":\"c6cbac19-e34e-4a03-8d43-d62a5d241203\",\"type\":\"LinearScale\"},{\"attributes\":{\"active_drag\":\"auto\",\"active_inspect\":\"auto\",\"active_scroll\":\"auto\",\"active_tap\":\"auto\",\"tools\":[{\"id\":\"b3806dc1-e30b-42c9-b12e-564fbb4cb100\",\"type\":\"PanTool\"},{\"id\":\"8ec881b7-f234-4624-81a8-1b4a262f5c43\",\"type\":\"WheelZoomTool\"},{\"id\":\"eb4e0498-97d5-4b4e-b8de-8312d866e021\",\"type\":\"BoxZoomTool\"},{\"id\":\"a54f5128-ec7d-4e6f-a649-c188c7ed28cf\",\"type\":\"SaveTool\"},{\"id\":\"7e81d650-b6a5-4fe1-ba2b-1281613bc1dd\",\"type\":\"ResetTool\"},{\"id\":\"7c33a6cf-68c7-4e15-82cc-b61740f4f39d\",\"type\":\"HelpTool\"}]},\"id\":\"c71b65ac-c997-4474-a3d8-1b630d468a34\",\"type\":\"Toolbar\"},{\"attributes\":{\"children\":[{\"id\":\"3830849a-1ed7-4e6d-8d75-63c4cbe0175e\",\"subtype\":\"Figure\",\"type\":\"Plot\"},{\"id\":\"88fbab03-b9db-4a8a-a20d-b3ef62111aab\",\"subtype\":\"Figure\",\"type\":\"Plot\"}]},\"id\":\"6a26fc51-bcb9-4f90-bc11-24e0c58473a7\",\"type\":\"Row\"},{\"attributes\":{\"source\":{\"id\":\"1447420f-4573-4f2b-81cf-2ae7ddef167e\",\"type\":\"ColumnDataSource\"}},\"id\":\"c0780622-8882-4070-ac6e-ae03b858e6ae\",\"type\":\"CDSView\"},{\"attributes\":{},\"id\":\"db4a3640-00bd-44d5-a0c2-701d69f4390b\",\"type\":\"PanTool\"},{\"attributes\":{\"bottom_units\":\"screen\",\"fill_alpha\":{\"value\":0.5},\"fill_color\":{\"value\":\"lightgrey\"},\"left_units\":\"screen\",\"level\":\"overlay\",\"line_alpha\":{\"value\":1.0},\"line_color\":{\"value\":\"black\"},\"line_dash\":[4,4],\"line_width\":{\"value\":2},\"plot\":null,\"render_mode\":\"css\",\"right_units\":\"screen\",\"top_units\":\"screen\"},\"id\":\"1e628e4f-07be-4073-bf2e-4f9b4abd90c3\",\"type\":\"BoxAnnotation\"},{\"attributes\":{},\"id\":\"bb318d06-65da-401d-a697-a7520e99ae87\",\"type\":\"WheelZoomTool\"},{\"attributes\":{},\"id\":\"b3806dc1-e30b-42c9-b12e-564fbb4cb100\",\"type\":\"PanTool\"},{\"attributes\":{\"data_source\":{\"id\":\"fe784250-9316-4da6-8fa0-f7a7180a9532\",\"type\":\"ColumnDataSource\"},\"glyph\":{\"id\":\"b3de06c8-9e60-4e6f-8f11-c45bbbdea36c\",\"type\":\"Circle\"},\"hover_glyph\":null,\"muted_glyph\":null,\"nonselection_glyph\":{\"id\":\"59e5fd16-9b0c-4d80-ab32-ff4abc1eca59\",\"type\":\"Circle\"},\"selection_glyph\":null,\"view\":{\"id\":\"1b156311-8ceb-432f-8a1a-5a649cc89570\",\"type\":\"CDSView\"}},\"id\":\"89428774-2c11-4212-b8e8-a6c748147138\",\"type\":\"GlyphRenderer\"},{\"attributes\":{},\"id\":\"3a4c90f7-104e-4673-b66c-072aa62950de\",\"type\":\"HelpTool\"},{\"attributes\":{\"source\":{\"id\":\"fe784250-9316-4da6-8fa0-f7a7180a9532\",\"type\":\"ColumnDataSource\"}},\"id\":\"1b156311-8ceb-432f-8a1a-5a649cc89570\",\"type\":\"CDSView\"},{\"attributes\":{\"fill_alpha\":{\"value\":0.1},\"fill_color\":{\"value\":\"#1f77b4\"},\"line_alpha\":{\"value\":0.1},\"line_color\":{\"value\":\"#1f77b4\"},\"size\":{\"units\":\"screen\",\"value\":10},\"x\":{\"field\":\"x\"},\"y\":{\"field\":\"y\"}},\"id\":\"59e5fd16-9b0c-4d80-ab32-ff4abc1eca59\",\"type\":\"Circle\"},{\"attributes\":{},\"id\":\"6de2fa9f-ef2f-4e3d-acc3-97a8621c80e4\",\"type\":\"BasicTickFormatter\"},{\"attributes\":{},\"id\":\"25a9aba4-6e10-4110-a92b-c09ce1d087ed\",\"type\":\"ResetTool\"},{\"attributes\":{},\"id\":\"72ba1894-838d-4f20-a07e-443158e511cb\",\"type\":\"BasicTickFormatter\"},{\"attributes\":{},\"id\":\"f89b0b4f-c857-484f-893f-cd7286f9b25c\",\"type\":\"SaveTool\"},{\"attributes\":{\"overlay\":{\"id\":\"1e628e4f-07be-4073-bf2e-4f9b4abd90c3\",\"type\":\"BoxAnnotation\"}},\"id\":\"f82a70f7-3f20-4f72-8b94-952facac8a00\",\"type\":\"BoxZoomTool\"},{\"attributes\":{},\"id\":\"22c21eb6-f286-43ba-81ec-fc831aa48124\",\"type\":\"BasicTickFormatter\"},{\"attributes\":{\"fill_alpha\":{\"value\":0.5},\"fill_color\":{\"value\":\"grey\"},\"line_alpha\":{\"value\":0.5},\"line_color\":{\"value\":\"grey\"},\"size\":{\"units\":\"screen\",\"value\":10},\"x\":{\"field\":\"x\"},\"y\":{\"field\":\"y\"}},\"id\":\"b3de06c8-9e60-4e6f-8f11-c45bbbdea36c\",\"type\":\"Circle\"},{\"attributes\":{\"dimension\":1,\"plot\":{\"id\":\"3830849a-1ed7-4e6d-8d75-63c4cbe0175e\",\"subtype\":\"Figure\",\"type\":\"Plot\"},\"ticker\":{\"id\":\"33dcb037-4cec-40e0-a933-e3916017a06a\",\"type\":\"BasicTicker\"}},\"id\":\"30be380f-2499-4b6c-91b3-3f5babdabc38\",\"type\":\"Grid\"},{\"attributes\":{\"data_source\":{\"id\":\"1447420f-4573-4f2b-81cf-2ae7ddef167e\",\"type\":\"ColumnDataSource\"},\"glyph\":{\"id\":\"d77c9d4e-84c2-45ac-80ef-01ccd030420e\",\"type\":\"Circle\"},\"hover_glyph\":null,\"muted_glyph\":null,\"nonselection_glyph\":{\"id\":\"d3d9b817-afe6-4055-88cd-e69f4c05c713\",\"type\":\"Circle\"},\"selection_glyph\":null,\"view\":{\"id\":\"c0780622-8882-4070-ac6e-ae03b858e6ae\",\"type\":\"CDSView\"}},\"id\":\"d27023d9-2eb6-4acc-bc19-d5b8565a51c5\",\"type\":\"GlyphRenderer\"},{\"attributes\":{\"fill_alpha\":{\"value\":0.5},\"fill_color\":{\"value\":\"grey\"},\"line_alpha\":{\"value\":0.5},\"line_color\":{\"value\":\"grey\"},\"size\":{\"units\":\"screen\",\"value\":10},\"x\":{\"field\":\"x\"},\"y\":{\"field\":\"y\"}},\"id\":\"d77c9d4e-84c2-45ac-80ef-01ccd030420e\",\"type\":\"Circle\"},{\"attributes\":{\"dimension\":1,\"plot\":{\"id\":\"88fbab03-b9db-4a8a-a20d-b3ef62111aab\",\"subtype\":\"Figure\",\"type\":\"Plot\"},\"ticker\":{\"id\":\"46014e1d-32d7-413d-b87f-7d19f484fbdb\",\"type\":\"BasicTicker\"}},\"id\":\"8c0939f9-f71c-4347-a35b-3fa6ebd4ef0b\",\"type\":\"Grid\"},{\"attributes\":{\"axis_label\":\"Milk\",\"formatter\":{\"id\":\"a2705e85-468b-4e5d-9eaf-44d2591718e7\",\"type\":\"BasicTickFormatter\"},\"plot\":{\"id\":\"88fbab03-b9db-4a8a-a20d-b3ef62111aab\",\"subtype\":\"Figure\",\"type\":\"Plot\"},\"ticker\":{\"id\":\"46014e1d-32d7-413d-b87f-7d19f484fbdb\",\"type\":\"BasicTicker\"}},\"id\":\"71163212-a91d-4b48-b453-cc3effdd2721\",\"type\":\"LinearAxis\"},{\"attributes\":{\"fill_alpha\":{\"value\":0.5},\"fill_color\":{\"value\":\"#7fc97f\"},\"line_alpha\":{\"value\":0.5},\"line_color\":{\"value\":\"#7fc97f\"},\"size\":{\"units\":\"screen\",\"value\":10},\"x\":{\"field\":\"x\"},\"y\":{\"field\":\"y\"}},\"id\":\"869dd2cb-07da-4d53-8510-7b61f8ed1215\",\"type\":\"Circle\"},{\"attributes\":{\"source\":{\"id\":\"a8c4c239-ba9d-4595-9c2f-d33d12f1f7b3\",\"type\":\"ColumnDataSource\"}},\"id\":\"c67fe218-6ebd-45ff-8b80-11dd685815e1\",\"type\":\"CDSView\"},{\"attributes\":{},\"id\":\"46014e1d-32d7-413d-b87f-7d19f484fbdb\",\"type\":\"BasicTicker\"},{\"attributes\":{\"data_source\":{\"id\":\"a8c4c239-ba9d-4595-9c2f-d33d12f1f7b3\",\"type\":\"ColumnDataSource\"},\"glyph\":{\"id\":\"869dd2cb-07da-4d53-8510-7b61f8ed1215\",\"type\":\"Circle\"},\"hover_glyph\":null,\"muted_glyph\":null,\"nonselection_glyph\":{\"id\":\"eb07c011-4290-45db-b3b8-a74500e3a1ec\",\"type\":\"Circle\"},\"selection_glyph\":null,\"view\":{\"id\":\"c67fe218-6ebd-45ff-8b80-11dd685815e1\",\"type\":\"CDSView\"}},\"id\":\"cf5e4151-bc41-4eec-b48e-49b40031cace\",\"type\":\"GlyphRenderer\"},{\"attributes\":{},\"id\":\"a2705e85-468b-4e5d-9eaf-44d2591718e7\",\"type\":\"BasicTickFormatter\"},{\"attributes\":{\"callback\":null,\"column_names\":[\"x\",\"y\"],\"data\":{\"x\":[26373,44466,35942,16117,22925,112151,36847],\"y\":[36423,54259,38369,46197,73498,29627,43950]}},\"id\":\"338759ca-8337-4c2a-97f4-d96b063a3b11\",\"type\":\"ColumnDataSource\"},{\"attributes\":{\"callback\":null,\"column_names\":[\"x\",\"y\"],\"data\":{\"x\":[12669,7057,6353,13265,22615,9413,12126,7579,5963,6006,3366,13146,31714,21217,24653,10253,1020,5876,18601,7780,17546,5567,31276,22647,16165,9898,14276,4113,43088,18815,2612,21632,29729,1502,688,29955,15168,4591,56159,24025,19176,10850,630,9670,5181,3103,11519,4967,6269,3347,40721,491,27329,5264,4098,5417,13779,6137,8590,7823,9396,4760,85,9,19913,2446,8352,16705,18291,4420,19899,8190,20398,717,12205,10766,1640,7005,219,10362,20874,11867,43265,7864,24904,11405,12754,9198,11314,5626,3,23,403,503,9658,11594,1420,2932,56082,14100,15587,1454,8797,1531,1406,11818,12579,19046,14438,18044,11134,11173,6990,20049,8258,17160,4020,12212,11170,36050,76237,19219,21465,140,42312,7149,2101,14903,9434,7388,6300,4625,3087,13537,5387,17623,30379,37036,10405,18827,22039,7769,9203,5924,31812,16225,1289,18840,3463,622,1989,3830,17773,2861,355,1725,12434,15177,5531,5224,15615,4822,2926,5809,5414,260,200,955,514,286,2343,45640,12759,11002,3157,12356,694,327,8170,3009,2438,8040,834,16936,13624,5509,180,7107,17023,30624,2427,11686,9670,3067,4484,25203,583,1956,1107,6373,2541,1537,5550,18567,12119,7291,3317,2362,2806,2532,18044,18,4155,14755,5396,5041,2790,7274,12680,20782,4042,1869,8656,11072,2344,25962,964,15603,1838,8635,18692,7363,47493,22096,24929,18226,11210,6202,3062,8885,13569,15671,8040,3191,6134,6623,29526,10379,31614,11092,8475,56083,53205,9193,7858,23257,2153,1073,5909,572,20893,11908,15218,4720,2083,514,36817,894,680,27901,9061,11693,17360,3366,12238,49063,25767,68951,40254,7149,15354,16260,42786,2708,6022,2838,3996,21273,7588,19087,8090,6758,444,16448,5283,2886,2599,161,243,6468,17327,6987,918,7034,29635,2137,9784,10617,1479,7127,1182,11800,9759,1774,9155,15881,13360,25977,32717,4414,542,16933,5113,9790,11223,22321,8565,16823,27082,13970,9351,3,2617,381,2320,255,1689,3043,1198,2771,27380,3428,5981,3521,1210,608,117,14039,190,22686,37,759,796,19746,4734,2121,4627,2615,4692,9561,3477,22335,6211,39679,20105,3884,15076,6338,5841,3136,38793,3225,4048,28257,17770,34454,1821,10683,11635,1206,20918,9785,9385,3352,2647,518,23632,12377,9602,4515,11535,11442,9612,4446,27167,26539,25606,18073,6884,25066,7362,8257,8708,6633,2126,97,4983,5969,7842,4389,5065,660,8861,4456,17063,26400,17565,16980,11243,13134,31012,3047,8607,3097,8533,21117,1982,16731,29703,39228,14531,10290,2787],\"y\":[9656,9810,8808,1196,5410,8259,3199,4956,3648,11093,5403,1124,12319,6208,9465,1114,8816,6157,6327,2495,4519,871,1917,9776,4230,961,803,20484,2100,3610,4339,1318,4786,1979,5491,4362,10556,15729,555,4332,3065,7555,11095,7027,22044,14069,6152,21412,1095,4051,3916,10473,1449,3683,29892,9933,1970,5360,3045,6245,11601,1227,20959,1534,6759,7260,2820,2037,1266,5139,5332,6343,1137,3587,12697,1175,3259,829,9540,9232,1563,3327,5025,542,3836,596,2762,27472,3090,12220,2920,2616,254,112,2182,7779,10810,6459,3504,2132,1014,6337,10646,8397,16729,1648,11114,2770,2295,1080,793,2521,3880,1891,2344,1200,3234,201,10769,1642,3473,1840,7243,8847,926,2428,589,2032,1042,1882,1289,8579,8080,4257,4979,4280,13252,7152,1596,3677,8384,1936,3373,584,1433,1825,3328,1371,9250,55,10690,5291,1366,6570,7704,3651,540,2024,15726,7603,12653,6721,3195,735,717,8675,25862,5479,7677,1208,7845,6958,7330,7075,4888,6036,8533,918,6448,521,8002,7639,11577,6250,295,1461,3485,1012,5139,7209,7097,2154,2280,13240,14399,11487,685,891,11711,780,4737,3748,12729,1895,28326,1012,6602,6551,10765,16599,1475,7504,367,899,7503,1115,2527,659,3243,5921,2204,577,2746,5989,10678,1780,4984,2703,6380,820,3838,475,2567,3575,1801,659,3576,7775,6154,2428,346,5279,3795,1993,23133,1860,7961,17972,489,5008,1931,4563,4959,4885,1110,1372,1115,9679,23527,9763,1222,8053,258,1032,5007,8323,3045,1703,1610,3749,829,2317,6200,2884,7108,3965,3613,4411,640,2247,2102,594,286,2160,3354,3086,11103,2013,1897,1304,3199,4560,879,6243,13316,5302,3688,7460,12939,12867,2374,1020,20655,1492,2335,3737,925,1795,14982,1375,3088,2713,25071,3696,1897,713,944,3587,16784,1610,899,2209,1486,1786,14881,3216,4980,928,6817,1511,1347,333,1188,4025,5763,5758,6964,1172,2602,6939,7184,2380,14641,1099,10044,1106,6264,7393,727,134,1275,18664,5878,2872,607,1601,997,873,6128,2217,894,1196,337,3944,1887,3801,6257,2256,1450,8630,3154,3294,5164,944,4591,7435,1364,21858,922,3620,1916,848,1530,1181,2761,4180,6730,865,1316,11991,1666,1032,577,906,2801,4753,11006,4613,1046,5010,12844,3880,3634,2096,3289,3605,4859,1990,6046,10940,5499,8494,3783,5266,4847,1377,3686,2884,2408,9347,16687,5970,1750,4230,5506,1162,3218,3922,12051,1431,15488,1981,1698]}},\"id\":\"5900594a-07d5-4b3e-b4fc-6bfd2d914c70\",\"type\":\"ColumnDataSource\"},{\"attributes\":{\"fill_alpha\":{\"value\":0.5},\"fill_color\":{\"value\":\"#7fc97f\"},\"line_alpha\":{\"value\":0.5},\"line_color\":{\"value\":\"#7fc97f\"},\"size\":{\"units\":\"screen\",\"value\":10},\"x\":{\"field\":\"x\"},\"y\":{\"field\":\"y\"}},\"id\":\"b5351f38-acc0-4b18-8eb4-36c6839f3d27\",\"type\":\"Circle\"},{\"attributes\":{\"fill_alpha\":{\"value\":0.5},\"fill_color\":{\"value\":\"#beaed4\"},\"line_alpha\":{\"value\":0.5},\"line_color\":{\"value\":\"#beaed4\"},\"size\":{\"units\":\"screen\",\"value\":10},\"x\":{\"field\":\"x\"},\"y\":{\"field\":\"y\"}},\"id\":\"a453a44d-9923-45c6-909b-575649dad2f9\",\"type\":\"Circle\"},{\"attributes\":{\"source\":{\"id\":\"338759ca-8337-4c2a-97f4-d96b063a3b11\",\"type\":\"ColumnDataSource\"}},\"id\":\"d50a0a20-438d-4af2-8c43-665b2913bd75\",\"type\":\"CDSView\"},{\"attributes\":{\"data_source\":{\"id\":\"338759ca-8337-4c2a-97f4-d96b063a3b11\",\"type\":\"ColumnDataSource\"},\"glyph\":{\"id\":\"a453a44d-9923-45c6-909b-575649dad2f9\",\"type\":\"Circle\"},\"hover_glyph\":null,\"muted_glyph\":null,\"nonselection_glyph\":{\"id\":\"fed78898-1ee7-4732-ab51-55b49f76f85d\",\"type\":\"Circle\"},\"selection_glyph\":null,\"view\":{\"id\":\"d50a0a20-438d-4af2-8c43-665b2913bd75\",\"type\":\"CDSView\"}},\"id\":\"527625f3-01f3-4ae9-b663-ea79ebb84999\",\"type\":\"GlyphRenderer\"},{\"attributes\":{\"fill_alpha\":{\"value\":0.1},\"fill_color\":{\"value\":\"#1f77b4\"},\"line_alpha\":{\"value\":0.1},\"line_color\":{\"value\":\"#1f77b4\"},\"size\":{\"units\":\"screen\",\"value\":10},\"x\":{\"field\":\"x\"},\"y\":{\"field\":\"y\"}},\"id\":\"a6072aa3-cd41-4513-a978-21ce6266a8db\",\"type\":\"Circle\"},{\"attributes\":{\"source\":{\"id\":\"d81c5827-ef34-47f6-9ad0-07eac10811bf\",\"type\":\"ColumnDataSource\"}},\"id\":\"d2b05553-f07f-433f-9814-bd1cddfd3452\",\"type\":\"CDSView\"},{\"attributes\":{\"source\":{\"id\":\"5900594a-07d5-4b3e-b4fc-6bfd2d914c70\",\"type\":\"ColumnDataSource\"}},\"id\":\"ccd2afef-dc5b-4fa1-80e7-4dc1afdbbfe3\",\"type\":\"CDSView\"},{\"attributes\":{\"fill_alpha\":{\"value\":0.1},\"fill_color\":{\"value\":\"#1f77b4\"},\"line_alpha\":{\"value\":0.1},\"line_color\":{\"value\":\"#1f77b4\"},\"size\":{\"units\":\"screen\",\"value\":10},\"x\":{\"field\":\"x\"},\"y\":{\"field\":\"y\"}},\"id\":\"77b963bc-19d4-4489-8d78-3ddbb1225e84\",\"type\":\"Circle\"},{\"attributes\":{\"fill_alpha\":{\"value\":0.1},\"fill_color\":{\"value\":\"#1f77b4\"},\"line_alpha\":{\"value\":0.1},\"line_color\":{\"value\":\"#1f77b4\"},\"size\":{\"units\":\"screen\",\"value\":10},\"x\":{\"field\":\"x\"},\"y\":{\"field\":\"y\"}},\"id\":\"eb07c011-4290-45db-b3b8-a74500e3a1ec\",\"type\":\"Circle\"},{\"attributes\":{\"data_source\":{\"id\":\"d81c5827-ef34-47f6-9ad0-07eac10811bf\",\"type\":\"ColumnDataSource\"},\"glyph\":{\"id\":\"72054024-7828-4aa2-a10f-59c24a98ecfb\",\"type\":\"Circle\"},\"hover_glyph\":null,\"muted_glyph\":null,\"nonselection_glyph\":{\"id\":\"77b963bc-19d4-4489-8d78-3ddbb1225e84\",\"type\":\"Circle\"},\"selection_glyph\":null,\"view\":{\"id\":\"d2b05553-f07f-433f-9814-bd1cddfd3452\",\"type\":\"CDSView\"}},\"id\":\"386bf080-a463-435b-9eac-4f7c58a8eae6\",\"type\":\"GlyphRenderer\"},{\"attributes\":{\"fill_alpha\":{\"value\":0.5},\"fill_color\":{\"value\":\"#beaed4\"},\"line_alpha\":{\"value\":0.5},\"line_color\":{\"value\":\"#beaed4\"},\"size\":{\"units\":\"screen\",\"value\":10},\"x\":{\"field\":\"x\"},\"y\":{\"field\":\"y\"}},\"id\":\"72054024-7828-4aa2-a10f-59c24a98ecfb\",\"type\":\"Circle\"},{\"attributes\":{\"fill_alpha\":{\"value\":0.1},\"fill_color\":{\"value\":\"#1f77b4\"},\"line_alpha\":{\"value\":0.1},\"line_color\":{\"value\":\"#1f77b4\"},\"size\":{\"units\":\"screen\",\"value\":10},\"x\":{\"field\":\"x\"},\"y\":{\"field\":\"y\"}},\"id\":\"fed78898-1ee7-4732-ab51-55b49f76f85d\",\"type\":\"Circle\"},{\"attributes\":{\"callback\":null,\"column_names\":[\"x\",\"y\"],\"data\":{\"x\":[],\"y\":[]}},\"id\":\"1447420f-4573-4f2b-81cf-2ae7ddef167e\",\"type\":\"ColumnDataSource\"},{\"attributes\":{\"callback\":null,\"column_names\":[\"x\",\"y\"],\"data\":{\"x\":[26373,44466,35942,16117,22925,112151,36847],\"y\":[36423,54259,38369,46197,73498,29627,43950]}},\"id\":\"d81c5827-ef34-47f6-9ad0-07eac10811bf\",\"type\":\"ColumnDataSource\"},{\"attributes\":{\"callback\":null,\"column_names\":[\"x\",\"y\"],\"data\":{\"x\":[12669,7057,6353,13265,22615,9413,12126,7579,5963,6006,3366,13146,31714,21217,24653,10253,1020,5876,18601,7780,17546,5567,31276,22647,16165,9898,14276,4113,43088,18815,2612,21632,29729,1502,688,29955,15168,4591,56159,24025,19176,10850,630,9670,5181,3103,11519,4967,6269,3347,40721,491,27329,5264,4098,5417,13779,6137,8590,7823,9396,4760,85,9,19913,2446,8352,16705,18291,4420,19899,8190,20398,717,12205,10766,1640,7005,219,10362,20874,11867,43265,7864,24904,11405,12754,9198,11314,5626,3,23,403,503,9658,11594,1420,2932,56082,14100,15587,1454,8797,1531,1406,11818,12579,19046,14438,18044,11134,11173,6990,20049,8258,17160,4020,12212,11170,36050,76237,19219,21465,140,42312,7149,2101,14903,9434,7388,6300,4625,3087,13537,5387,17623,30379,37036,10405,18827,22039,7769,9203,5924,31812,16225,1289,18840,3463,622,1989,3830,17773,2861,355,1725,12434,15177,5531,5224,15615,4822,2926,5809,5414,260,200,955,514,286,2343,45640,12759,11002,3157,12356,694,327,8170,3009,2438,8040,834,16936,13624,5509,180,7107,17023,30624,2427,11686,9670,3067,4484,25203,583,1956,1107,6373,2541,1537,5550,18567,12119,7291,3317,2362,2806,2532,18044,18,4155,14755,5396,5041,2790,7274,12680,20782,4042,1869,8656,11072,2344,25962,964,15603,1838,8635,18692,7363,47493,22096,24929,18226,11210,6202,3062,8885,13569,15671,8040,3191,6134,6623,29526,10379,31614,11092,8475,56083,53205,9193,7858,23257,2153,1073,5909,572,20893,11908,15218,4720,2083,514,36817,894,680,27901,9061,11693,17360,3366,12238,49063,25767,68951,40254,7149,15354,16260,42786,2708,6022,2838,3996,21273,7588,19087,8090,6758,444,16448,5283,2886,2599,161,243,6468,17327,6987,918,7034,29635,2137,9784,10617,1479,7127,1182,11800,9759,1774,9155,15881,13360,25977,32717,4414,542,16933,5113,9790,11223,22321,8565,16823,27082,13970,9351,3,2617,381,2320,255,1689,3043,1198,2771,27380,3428,5981,3521,1210,608,117,14039,190,22686,37,759,796,19746,4734,2121,4627,2615,4692,9561,3477,22335,6211,39679,20105,3884,15076,6338,5841,3136,38793,3225,4048,28257,17770,34454,1821,10683,11635,1206,20918,9785,9385,3352,2647,518,23632,12377,9602,4515,11535,11442,9612,4446,27167,26539,25606,18073,6884,25066,7362,8257,8708,6633,2126,97,4983,5969,7842,4389,5065,660,8861,4456,17063,26400,17565,16980,11243,13134,31012,3047,8607,3097,8533,21117,1982,16731,29703,39228,14531,10290,2787],\"y\":[9656,9810,8808,1196,5410,8259,3199,4956,3648,11093,5403,1124,12319,6208,9465,1114,8816,6157,6327,2495,4519,871,1917,9776,4230,961,803,20484,2100,3610,4339,1318,4786,1979,5491,4362,10556,15729,555,4332,3065,7555,11095,7027,22044,14069,6152,21412,1095,4051,3916,10473,1449,3683,29892,9933,1970,5360,3045,6245,11601,1227,20959,1534,6759,7260,2820,2037,1266,5139,5332,6343,1137,3587,12697,1175,3259,829,9540,9232,1563,3327,5025,542,3836,596,2762,27472,3090,12220,2920,2616,254,112,2182,7779,10810,6459,3504,2132,1014,6337,10646,8397,16729,1648,11114,2770,2295,1080,793,2521,3880,1891,2344,1200,3234,201,10769,1642,3473,1840,7243,8847,926,2428,589,2032,1042,1882,1289,8579,8080,4257,4979,4280,13252,7152,1596,3677,8384,1936,3373,584,1433,1825,3328,1371,9250,55,10690,5291,1366,6570,7704,3651,540,2024,15726,7603,12653,6721,3195,735,717,8675,25862,5479,7677,1208,7845,6958,7330,7075,4888,6036,8533,918,6448,521,8002,7639,11577,6250,295,1461,3485,1012,5139,7209,7097,2154,2280,13240,14399,11487,685,891,11711,780,4737,3748,12729,1895,28326,1012,6602,6551,10765,16599,1475,7504,367,899,7503,1115,2527,659,3243,5921,2204,577,2746,5989,10678,1780,4984,2703,6380,820,3838,475,2567,3575,1801,659,3576,7775,6154,2428,346,5279,3795,1993,23133,1860,7961,17972,489,5008,1931,4563,4959,4885,1110,1372,1115,9679,23527,9763,1222,8053,258,1032,5007,8323,3045,1703,1610,3749,829,2317,6200,2884,7108,3965,3613,4411,640,2247,2102,594,286,2160,3354,3086,11103,2013,1897,1304,3199,4560,879,6243,13316,5302,3688,7460,12939,12867,2374,1020,20655,1492,2335,3737,925,1795,14982,1375,3088,2713,25071,3696,1897,713,944,3587,16784,1610,899,2209,1486,1786,14881,3216,4980,928,6817,1511,1347,333,1188,4025,5763,5758,6964,1172,2602,6939,7184,2380,14641,1099,10044,1106,6264,7393,727,134,1275,18664,5878,2872,607,1601,997,873,6128,2217,894,1196,337,3944,1887,3801,6257,2256,1450,8630,3154,3294,5164,944,4591,7435,1364,21858,922,3620,1916,848,1530,1181,2761,4180,6730,865,1316,11991,1666,1032,577,906,2801,4753,11006,4613,1046,5010,12844,3880,3634,2096,3289,3605,4859,1990,6046,10940,5499,8494,3783,5266,4847,1377,3686,2884,2408,9347,16687,5970,1750,4230,5506,1162,3218,3922,12051,1431,15488,1981,1698]}},\"id\":\"a8c4c239-ba9d-4595-9c2f-d33d12f1f7b3\",\"type\":\"ColumnDataSource\"},{\"attributes\":{\"data_source\":{\"id\":\"5900594a-07d5-4b3e-b4fc-6bfd2d914c70\",\"type\":\"ColumnDataSource\"},\"glyph\":{\"id\":\"b5351f38-acc0-4b18-8eb4-36c6839f3d27\",\"type\":\"Circle\"},\"hover_glyph\":null,\"muted_glyph\":null,\"nonselection_glyph\":{\"id\":\"a6072aa3-cd41-4513-a978-21ce6266a8db\",\"type\":\"Circle\"},\"selection_glyph\":null,\"view\":{\"id\":\"ccd2afef-dc5b-4fa1-80e7-4dc1afdbbfe3\",\"type\":\"CDSView\"}},\"id\":\"bfafe7ab-3452-4063-bd36-066977e928ca\",\"type\":\"GlyphRenderer\"},{\"attributes\":{\"callback\":null,\"column_names\":[\"x\",\"y\"],\"data\":{\"x\":[],\"y\":[]}},\"id\":\"fe784250-9316-4da6-8fa0-f7a7180a9532\",\"type\":\"ColumnDataSource\"}],\"root_ids\":[\"6a26fc51-bcb9-4f90-bc11-24e0c58473a7\"]},\"title\":\"Bokeh Application\",\"version\":\"0.12.7\"}};\n",
       "            var render_items = [{\"docid\":\"ecaa7210-1f81-4857-ad87-46d1d322c103\",\"elementid\":\"3e515386-69ac-49b4-bb77-57f29aab7f20\",\"modelid\":\"6a26fc51-bcb9-4f90-bc11-24e0c58473a7\",\"notebook_comms_target\":\"767b7e98-2465-43db-9de6-7948b1496cb1\"}];\n",
       "            \n",
       "            Bokeh.embed.embed_items(docs_json, render_items);\n",
       "          };\n",
       "          if (document.readyState != \"loading\") fn();\n",
       "          else document.addEventListener(\"DOMContentLoaded\", fn);\n",
       "        })();\n",
       "      },\n",
       "      function(Bokeh) {\n",
       "      }\n",
       "    ];\n",
       "  \n",
       "    function run_inline_js() {\n",
       "      \n",
       "      if ((root.Bokeh !== undefined) || (force === true)) {\n",
       "        for (var i = 0; i < inline_js.length; i++) {\n",
       "          inline_js[i].call(root, root.Bokeh);\n",
       "        }if (force === true) {\n",
       "          display_loaded();\n",
       "        }} else if (Date.now() < root._bokeh_timeout) {\n",
       "        setTimeout(run_inline_js, 100);\n",
       "      } else if (!root._bokeh_failed_load) {\n",
       "        console.log(\"Bokeh: BokehJS failed to load within specified timeout.\");\n",
       "        root._bokeh_failed_load = true;\n",
       "      } else if (force !== true) {\n",
       "        var cell = $(document.getElementById(\"3e515386-69ac-49b4-bb77-57f29aab7f20\")).parents('.cell').data().cell;\n",
       "        cell.output_area.append_execute_result(NB_LOAD_WARNING)\n",
       "      }\n",
       "  \n",
       "    }\n",
       "  \n",
       "    if (root._bokeh_is_loading === 0) {\n",
       "      console.log(\"Bokeh: BokehJS loaded, going straight to plotting\");\n",
       "      run_inline_js();\n",
       "    } else {\n",
       "      load_libs(js_urls, function() {\n",
       "        console.log(\"Bokeh: BokehJS plotting callback run at\", now());\n",
       "        run_inline_js();\n",
       "      });\n",
       "    }\n",
       "  }(window));\n",
       "</script>"
      ]
     },
     "metadata": {},
     "output_type": "display_data"
    },
    {
     "data": {
      "application/vnd.jupyter.widget-view+json": {
       "model_id": "22740b49b3004c379b7f3660768d808f"
      }
     },
     "metadata": {},
     "output_type": "display_data"
    }
   ],
   "source": [
    "xAxis = list(data.columns)\n",
    "xAxis.remove('Channel')\n",
    "xAxis.remove('Region')\n",
    "yAxis = xAxis\n",
    "channels = {'Horeca':1, 'Retail':2, 'All':0}\n",
    "regions = {'Lisbon':1, 'Oporto':2, 'Other Regions': 3, 'All':0}\n",
    "channelOptions = list(channels.keys())\n",
    "regionOptions = list(regions.keys())\n",
    "\n",
    "\n",
    "dbscan   = cluster.DBSCAN(eps=.2)\n",
    "birch    = cluster.Birch(n_clusters=2)\n",
    "means    = cluster.MiniBatchKMeans(n_clusters=2)\n",
    "spectral = cluster.SpectralClustering(n_clusters=2, eigen_solver='arpack', affinity=\"nearest_neighbors\")\n",
    "algorithms = {'DBSCAN':dbscan, 'Birch': birch, 'K-Means':means, 'Specteral':spectral}\n",
    "algorithmOptions = list(algorithms.keys())\n",
    "\n",
    "algorithm = means\n",
    "clusters = 2\n",
    "selectedData = data;\n",
    "dataset = selectedData.as_matrix(columns=[xAxis[0],yAxis[1]])\n",
    "dataset = StandardScaler().fit_transform(dataset)\n",
    "algorithm.fit(dataset)\n",
    "y_pred = algorithm.predict(dataset)\n",
    "\n",
    "    \n",
    "\n",
    "plot1 = Figure(x_axis_label=xAxis[0], y_axis_label=yAxis[1], plot_width=450, plot_height=450,title='Analysis of different clustering methods')\n",
    "plot2 = Figure(x_axis_label=xAxis[0], y_axis_label=yAxis[1], plot_width=450, plot_height=450,title='Analysis of different clustering methods')\n",
    "\n",
    "clusterPlots1 = []\n",
    "clusterPlots2 = []\n",
    "indicies = numpy.where(y_pred == -1)\n",
    "source =selectedData.iloc[indicies]\n",
    "clusterPlots1.append(plot1.circle(x=source[xAxis[0]],y=source[yAxis[1]],size=10,alpha=.5,color='grey')) \n",
    "clusterPlots2.append(plot2.circle(x=source[xAxis[0]],y=source[yAxis[1]],size=10,alpha=.5,color='grey')) \n",
    "for i in range(0,clusters):\n",
    "    indicies = numpy.where(y_pred == i)\n",
    "    source =selectedData.iloc[indicies]\n",
    "    clusterPlots1.append(plot1.circle(x=source[xAxis[0]], y= source[yAxis[1]],size=10,alpha=.5,color=Accent[3][i]))\n",
    "    clusterPlots2.append(plot2.circle(x=source[xAxis[0]], y= source[yAxis[1]],size=10,alpha=.5,color=Accent[3][i]))\n",
    "\n",
    "\n",
    "graph = show(row(plot1,plot2), notebook_handle=True)\n",
    "\n",
    "def drawGraph(channel, region, xAxis,yAxis,algorithm1,algorithm2):\n",
    "    selectedData = data\n",
    "    if(channels[channel] != 0):\n",
    "        selectedData = data.loc[(data['Channel'] == channels[channel])]\n",
    "    if(regions[region] != 0):\n",
    "        selectedData =  selectedData.loc[data['Region'] == regions[region]]\n",
    "    algorithm1 = algorithms[algorithm1]\n",
    "    algorithm2 = algorithms[algorithm2]\n",
    "    dataset = selectedData.as_matrix(columns=[xAxis,yAxis])\n",
    "    dataset = StandardScaler().fit_transform(dataset)\n",
    "    algorithm1.fit(dataset)\n",
    "    algorithm2.fit(dataset)\n",
    "    y_pred1 = algorithm1.labels_.astype(numpy.int)\n",
    "    y_pred2 = algorithm2.labels_.astype(numpy.int)\n",
    "    for i in range(0,clusters):\n",
    "        indicies = numpy.where(y_pred1 == i)\n",
    "        source =selectedData.iloc[indicies]\n",
    "        clusterPlots1[i+1].data_source.data = {'x':source[xAxis],'y':source[yAxis]}\n",
    "    indicies = numpy.where(y_pred1 == -1)\n",
    "    source =selectedData.iloc[indicies]\n",
    "    clusterPlots1[0].data_source.data = {'x':source[xAxis],'y':source[yAxis]}\n",
    "    \n",
    "    for i in range(0,clusters):\n",
    "        indicies = numpy.where(y_pred2 == i)\n",
    "        source =selectedData.iloc[indicies]\n",
    "        clusterPlots2[i+1].data_source.data = {'x':source[xAxis],'y':source[yAxis]}\n",
    "    indicies = numpy.where(y_pred2 == -1)\n",
    "    source =selectedData.iloc[indicies]\n",
    "    clusterPlots2[0].data_source.data = {'x':source[xAxis],'y':source[yAxis]}\n",
    "\n",
    "    plot1.xaxis.axis_label = xAxis\n",
    "    plot1.yaxis.axis_label = yAxis\n",
    "    plot2.xaxis.axis_label = xAxis\n",
    "    plot2.yaxis.axis_label = yAxis\n",
    "    push_notebook(graph)\n",
    "\n",
    "    \n",
    "channelDropdown = widgets.Dropdown(options=channelOptions,value=channelOptions[2],description='Channel:') \n",
    "regionDropdown = widgets.Dropdown(options=regionOptions,value=regionOptions[3],description='Region:')\n",
    "xAxisDropdown = widgets.Dropdown(options=xAxis,value=xAxis[0],description='X-Axis:')\n",
    "yAxisDropdown = widgets.Dropdown(options=yAxis,value=yAxis[1],description='Y-Axis:')\n",
    "algorithmDropdown1 = widgets.Dropdown(options=algorithmOptions, value=algorithmOptions[2],description='Clustering Algorithm:')\n",
    "algorithmDropdown2 = widgets.Dropdown(options=algorithmOptions, value=algorithmOptions[2],description='Clustering Algorithm:')\n",
    "\n",
    "output = interactive(drawGraph, channel=channelDropdown, region=regionDropdown, xAxis=xAxisDropdown,yAxis=yAxisDropdown, \n",
    "                     algorithm1 = algorithmDropdown1, algorithm2 = algorithmDropdown2)\n",
    "\n",
    "box_layout = Layout(display='flex',\n",
    "                    flex_flow='row',\n",
    "                    justify_content='space-between',\n",
    "                    width='85%')\n",
    "VBox([HBox([output.children[0],output.children[1],output.children[2],output.children[3]]),\n",
    "      Box([output.children[4],output.children[5]],layout=box_layout)])\n",
    "\n",
    "\n",
    "\n"
   ]
  },
  {
   "cell_type": "markdown",
   "metadata": {
    "collapsed": true
   },
   "source": [
    "Note: In the above graphs, blue and green represent different clusters. For the sake of simplicity, we have taken the maximum clusters as 2. The grey dots are not included in any clusters. As we can see, Birch clustering gives the best result"
   ]
  },
  {
   "cell_type": "code",
   "execution_count": null,
   "metadata": {
    "collapsed": true
   },
   "outputs": [],
   "source": []
  },
  {
   "cell_type": "code",
   "execution_count": null,
   "metadata": {
    "collapsed": true
   },
   "outputs": [],
   "source": []
  }
 ],
 "metadata": {
  "kernelspec": {
   "display_name": "Python 3",
   "language": "python",
   "name": "python3"
  },
  "language_info": {
   "codemirror_mode": {
    "name": "ipython",
    "version": 3
   },
   "file_extension": ".py",
   "mimetype": "text/x-python",
   "name": "python",
   "nbconvert_exporter": "python",
   "pygments_lexer": "ipython3",
   "version": "3.6.1"
  },
  "widgets": {
   "application/vnd.jupyter.widget-state+json": {
    "state": {
     "063768958903427fa9155f5bd83b1192": {
      "model_module": "jupyter-js-widgets",
      "model_module_version": "~2.1.4",
      "model_name": "LayoutModel",
      "state": {
       "_model_module_version": "~2.1.4",
       "_view_module_version": "~2.1.4"
      }
     },
     "063c38609b4042e78d3443c13068b43e": {
      "model_module": "jupyter-js-widgets",
      "model_module_version": "~2.1.4",
      "model_name": "LayoutModel",
      "state": {
       "_model_module_version": "~2.1.4",
       "_view_module_version": "~2.1.4"
      }
     },
     "07c156f964f2419689d2678fcf0f34e9": {
      "model_module": "jupyter-js-widgets",
      "model_module_version": "~2.1.4",
      "model_name": "LayoutModel",
      "state": {
       "_model_module_version": "~2.1.4",
       "_view_module_version": "~2.1.4"
      }
     },
     "0a436c9470504129a3272bf46242b777": {
      "model_module": "jupyter-js-widgets",
      "model_module_version": "~2.1.4",
      "model_name": "DropdownModel",
      "state": {
       "_model_module_version": "~2.1.4",
       "_options_labels": [
        "Horeca",
        "Retail",
        "All"
       ],
       "_view_module_version": "~2.1.4",
       "description": "Channel:",
       "layout": "IPY_MODEL_07c156f964f2419689d2678fcf0f34e9",
       "value": "Horeca"
      }
     },
     "0c703f0b260e4166a11cf06efa8d00bc": {
      "model_module": "jupyter-js-widgets",
      "model_module_version": "~2.1.4",
      "model_name": "LayoutModel",
      "state": {
       "_model_module_version": "~2.1.4",
       "_view_module_version": "~2.1.4"
      }
     },
     "1cea790af9764572a501d6ca3ed40a61": {
      "model_module": "jupyter-js-widgets",
      "model_module_version": "~2.1.4",
      "model_name": "LayoutModel",
      "state": {
       "_model_module_version": "~2.1.4",
       "_view_module_version": "~2.1.4"
      }
     },
     "348a7c333d9b477b84af738f68890217": {
      "model_module": "jupyter-js-widgets",
      "model_module_version": "~2.1.4",
      "model_name": "VBoxModel",
      "state": {
       "_dom_classes": [
        "widget-interact"
       ],
       "_model_module_version": "~2.1.4",
       "_view_module_version": "~2.1.4",
       "children": [
        "IPY_MODEL_0a436c9470504129a3272bf46242b777",
        "IPY_MODEL_8cfe32e1b7bf47a8ad8b2f1c5ef99e05",
        "IPY_MODEL_f0bcd7e9a5f145d28635a07512b929e4",
        "IPY_MODEL_de135579cd81423895c2dad2fdf7686a",
        "IPY_MODEL_57092d8802184c9e91977bc809594a85"
       ],
       "layout": "IPY_MODEL_d02e3e987b644328a8058dcc49d1eece"
      }
     },
     "36eeffe6db73493c8b5e7b50e249c2ec": {
      "model_module": "jupyter-js-widgets",
      "model_module_version": "~2.1.4",
      "model_name": "OutputModel",
      "state": {
       "_dom_classes": [],
       "_model_module": "jupyter-js-widgets",
       "_model_module_version": "~2.1.4",
       "_view_module": "jupyter-js-widgets",
       "_view_module_version": "~2.1.4",
       "layout": "IPY_MODEL_1cea790af9764572a501d6ca3ed40a61",
       "msg_throttle": 1
      }
     },
     "3f372aee2a32426a9a122a15bd32d8bb": {
      "model_module": "jupyter-js-widgets",
      "model_module_version": "~2.1.4",
      "model_name": "LayoutModel",
      "state": {
       "_model_module_version": "~2.1.4",
       "_view_module_version": "~2.1.4"
      }
     },
     "57092d8802184c9e91977bc809594a85": {
      "model_module": "jupyter-js-widgets",
      "model_module_version": "~2.1.4",
      "model_name": "OutputModel",
      "state": {
       "_dom_classes": [],
       "_model_module": "jupyter-js-widgets",
       "_model_module_version": "~2.1.4",
       "_view_module": "jupyter-js-widgets",
       "_view_module_version": "~2.1.4",
       "layout": "IPY_MODEL_bf61f18ef8474369b11cbe27dac45a78",
       "msg_throttle": 1
      }
     },
     "5c51e32a04b54314a7bd94738d92f084": {
      "model_module": "jupyter-js-widgets",
      "model_module_version": "~2.1.4",
      "model_name": "VBoxModel",
      "state": {
       "_dom_classes": [
        "widget-interact"
       ],
       "_model_module_version": "~2.1.4",
       "_view_module_version": "~2.1.4",
       "children": [
        "IPY_MODEL_e984a93a7e724a0a864d5f9bbac8ba6e",
        "IPY_MODEL_86e8d65d22a64fbfac7c948ce642b832",
        "IPY_MODEL_e193aaa78caf4194996d4aa4892439b4",
        "IPY_MODEL_fe2ef6a9de3a46d0978497ce56902d46",
        "IPY_MODEL_36eeffe6db73493c8b5e7b50e249c2ec"
       ],
       "layout": "IPY_MODEL_063768958903427fa9155f5bd83b1192"
      }
     },
     "6d703b88f79840828c0070d0139a5faa": {
      "model_module": "jupyter-js-widgets",
      "model_module_version": "~2.1.4",
      "model_name": "LayoutModel",
      "state": {
       "_model_module_version": "~2.1.4",
       "_view_module_version": "~2.1.4"
      }
     },
     "7ca5b8e2d2dd4485850d15682efd02e3": {
      "model_module": "jupyter-js-widgets",
      "model_module_version": "~2.1.4",
      "model_name": "LayoutModel",
      "state": {
       "_model_module_version": "~2.1.4",
       "_view_module_version": "~2.1.4"
      }
     },
     "86e8d65d22a64fbfac7c948ce642b832": {
      "model_module": "jupyter-js-widgets",
      "model_module_version": "~2.1.4",
      "model_name": "DropdownModel",
      "state": {
       "_model_module_version": "~2.1.4",
       "_options_labels": [
        "Lisbon",
        "Oporto",
        "Other Regions",
        "All"
       ],
       "_view_module_version": "~2.1.4",
       "description": "Region:",
       "layout": "IPY_MODEL_ecfc8cf983c54287b2a3a6c5cb1e4355",
       "value": "Lisbon"
      }
     },
     "8cfe32e1b7bf47a8ad8b2f1c5ef99e05": {
      "model_module": "jupyter-js-widgets",
      "model_module_version": "~2.1.4",
      "model_name": "DropdownModel",
      "state": {
       "_model_module_version": "~2.1.4",
       "_options_labels": [
        "Lisbon",
        "Oporto",
        "Other Regions",
        "All"
       ],
       "_view_module_version": "~2.1.4",
       "description": "Region:",
       "layout": "IPY_MODEL_7ca5b8e2d2dd4485850d15682efd02e3",
       "value": "Lisbon"
      }
     },
     "ae0d5534c2904cc8ab7bc57c4eac1ef2": {
      "model_module": "jupyter-js-widgets",
      "model_module_version": "~2.1.4",
      "model_name": "LayoutModel",
      "state": {
       "_model_module_version": "~2.1.4",
       "_view_module_version": "~2.1.4"
      }
     },
     "bf61f18ef8474369b11cbe27dac45a78": {
      "model_module": "jupyter-js-widgets",
      "model_module_version": "~2.1.4",
      "model_name": "LayoutModel",
      "state": {
       "_model_module_version": "~2.1.4",
       "_view_module_version": "~2.1.4"
      }
     },
     "d02e3e987b644328a8058dcc49d1eece": {
      "model_module": "jupyter-js-widgets",
      "model_module_version": "~2.1.4",
      "model_name": "LayoutModel",
      "state": {
       "_model_module_version": "~2.1.4",
       "_view_module_version": "~2.1.4"
      }
     },
     "de135579cd81423895c2dad2fdf7686a": {
      "model_module": "jupyter-js-widgets",
      "model_module_version": "~2.1.4",
      "model_name": "DropdownModel",
      "state": {
       "_model_module_version": "~2.1.4",
       "_options_labels": [
        "Fresh",
        "Milk",
        "Grocery",
        "Frozen",
        "Detergents_Paper",
        "Delicassen"
       ],
       "_view_module_version": "~2.1.4",
       "description": "Y-Axis:",
       "layout": "IPY_MODEL_ae0d5534c2904cc8ab7bc57c4eac1ef2",
       "value": "Milk"
      }
     },
     "e193aaa78caf4194996d4aa4892439b4": {
      "model_module": "jupyter-js-widgets",
      "model_module_version": "~2.1.4",
      "model_name": "DropdownModel",
      "state": {
       "_model_module_version": "~2.1.4",
       "_options_labels": [
        "Fresh",
        "Milk",
        "Grocery",
        "Frozen",
        "Detergents_Paper",
        "Delicassen"
       ],
       "_view_module_version": "~2.1.4",
       "description": "X-Axis:",
       "layout": "IPY_MODEL_0c703f0b260e4166a11cf06efa8d00bc",
       "value": "Fresh"
      }
     },
     "e984a93a7e724a0a864d5f9bbac8ba6e": {
      "model_module": "jupyter-js-widgets",
      "model_module_version": "~2.1.4",
      "model_name": "DropdownModel",
      "state": {
       "_model_module_version": "~2.1.4",
       "_options_labels": [
        "Horeca",
        "Retail",
        "All"
       ],
       "_view_module_version": "~2.1.4",
       "description": "Channel:",
       "layout": "IPY_MODEL_063c38609b4042e78d3443c13068b43e",
       "value": "Horeca"
      }
     },
     "ecfc8cf983c54287b2a3a6c5cb1e4355": {
      "model_module": "jupyter-js-widgets",
      "model_module_version": "~2.1.4",
      "model_name": "LayoutModel",
      "state": {
       "_model_module_version": "~2.1.4",
       "_view_module_version": "~2.1.4"
      }
     },
     "f0bcd7e9a5f145d28635a07512b929e4": {
      "model_module": "jupyter-js-widgets",
      "model_module_version": "~2.1.4",
      "model_name": "DropdownModel",
      "state": {
       "_model_module_version": "~2.1.4",
       "_options_labels": [
        "Fresh",
        "Milk",
        "Grocery",
        "Frozen",
        "Detergents_Paper",
        "Delicassen"
       ],
       "_view_module_version": "~2.1.4",
       "description": "X-Axis:",
       "layout": "IPY_MODEL_6d703b88f79840828c0070d0139a5faa",
       "value": "Fresh"
      }
     },
     "fe2ef6a9de3a46d0978497ce56902d46": {
      "model_module": "jupyter-js-widgets",
      "model_module_version": "~2.1.4",
      "model_name": "DropdownModel",
      "state": {
       "_model_module_version": "~2.1.4",
       "_options_labels": [
        "Fresh",
        "Milk",
        "Grocery",
        "Frozen",
        "Detergents_Paper",
        "Delicassen"
       ],
       "_view_module_version": "~2.1.4",
       "description": "Y-Axis:",
       "layout": "IPY_MODEL_3f372aee2a32426a9a122a15bd32d8bb",
       "value": "Milk"
      }
     }
    },
    "version_major": 1,
    "version_minor": 0
   }
  }
 },
 "nbformat": 4,
 "nbformat_minor": 2
}
